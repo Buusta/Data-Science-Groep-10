{
 "cells": [
  {
   "cell_type": "code",
   "execution_count": 1,
   "id": "2d6719df-73f6-4545-9a4d-9144a191c84b",
   "metadata": {},
   "outputs": [
    {
     "name": "stdout",
     "output_type": "stream",
     "text": [
      "{'appid': 730, 'genre_ids': ['1', '37'], 'release_date': '21 Aug, 2012', 'platforms': {'Windows': 1, 'Mac': 0, 'Linux': 1}}\n"
     ]
    }
   ],
   "source": [
    "import requests\n",
    "\n",
    "def get_steam_game_info(appid: int) -> dict:\n",
    "    \"\"\"\n",
    "    Haalt basisinformatie op van een Steam-game via de openbare appdetails API.\n",
    "    \n",
    "    Parameters:\n",
    "        appid (int): Steam AppID van het spel.\n",
    "        \n",
    "    Returns:\n",
    "        dict: Dictionary met genre-IDs, release datum en platform flags.\n",
    "              Platforms worden weergegeven als 1 = beschikbaar, 0 = niet beschikbaar.\n",
    "              Format:\n",
    "              {\n",
    "                  'appid': 123,\n",
    "                  'genre_ids': ['1', '37'],\n",
    "                  'release_date': '21 Aug, 2012',\n",
    "                  'platforms': {'Windows': 1, 'Mac': 0, 'Linux': 1}\n",
    "              }\n",
    "    \"\"\"\n",
    "    url = f'https://store.steampowered.com/api/appdetails?appids={appid}'\n",
    "    response = requests.get(url, timeout=10)\n",
    "    response.raise_for_status()\n",
    "    \n",
    "    data = response.json()\n",
    "    app_data = data[str(appid)]['data']\n",
    "    \n",
    "    # Genre IDs ophalen\n",
    "    genres = app_data.get('genres', [])\n",
    "    genre_ids = [g['id'] for g in genres]\n",
    "    \n",
    "    # Release date ophalen\n",
    "    release_date = app_data.get('release_date', {}).get('date')\n",
    "    \n",
    "    # Platform flags ophalen\n",
    "    platforms_data = app_data.get('platforms', {})\n",
    "    windows = 1 if platforms_data.get('windows', False) else 0\n",
    "    mac     = 1 if platforms_data.get('mac', False) else 0\n",
    "    linux   = 1 if platforms_data.get('linux', False) else 0\n",
    "    \n",
    "    return {\n",
    "        'appid': appid,\n",
    "        'genre_ids': genre_ids,\n",
    "        'release_date': release_date,\n",
    "        'platforms': {\n",
    "            'Windows': windows,\n",
    "            'Mac': mac,\n",
    "            'Linux': linux\n",
    "        }\n",
    "    }\n",
    "\n",
    "# -------------------------\n",
    "# Voorbeeldgebruik:\n",
    "if __name__ == \"__main__\":\n",
    "    appid = 730  # Vul hier elk AppID in\n",
    "    game_info = get_steam_game_info(appid)\n",
    "    print(game_info)\n"
   ]
  },
  {
   "cell_type": "code",
   "execution_count": null,
   "id": "adb3ae32-a56f-4414-a11c-15dbfa89cebb",
   "metadata": {},
   "outputs": [],
   "source": []
  }
 ],
 "metadata": {
  "kernelspec": {
   "display_name": "Python [conda env:base] *",
   "language": "python",
   "name": "conda-base-py"
  },
  "language_info": {
   "codemirror_mode": {
    "name": "ipython",
    "version": 3
   },
   "file_extension": ".py",
   "mimetype": "text/x-python",
   "name": "python",
   "nbconvert_exporter": "python",
   "pygments_lexer": "ipython3",
   "version": "3.13.5"
  }
 },
 "nbformat": 4,
 "nbformat_minor": 5
}
