{
 "cells": [
  {
   "cell_type": "markdown",
   "id": "3d65b390",
   "metadata": {},
   "source": [
    "# Data Science template - Titanic Case\n",
    "\n",
    "Deze notebook begeleidt je stap voor stap door de **Titanic**-case op Kaggle.\n",
    "De focus ligt op de standaard Data Science workflow:\n",
    "\n",
    "1. Probleemdefinitie en doel\n",
    "2. Data-input & Data cleaning\n",
    "3. Verkenning (EDA)\n",
    "4. Feature engineering\n",
    "5. Modelleren (baseline → verbeterde modellen)\n",
    "6. **Voorspelling** en export van `submission.csv`\n",
    "\n",
    "> 🎯 Doel: voorspel de kans dat een passagier de Titanic-vaart heeft overleefd (`Survived`)."
   ]
  },
  {
   "cell_type": "markdown",
   "id": "f677eee8",
   "metadata": {},
   "source": [
    "## 0. Doel & Omgevings-setup\n",
    "\n",
    "- Download `train.csv` en `test.csv` handmatig van de Titanic-competitiepagina en plaats ze in een bijvoorbeeld in dezelfde map als dit bestand.\n"
   ]
  },
  {
   "cell_type": "code",
   "execution_count": 1,
   "id": "7b57a075",
   "metadata": {},
   "outputs": [],
   "source": [
    "# !python --version\n"
   ]
  },
  {
   "cell_type": "markdown",
   "id": "773e7334",
   "metadata": {},
   "source": [
    "## 1. Imports"
   ]
  },
  {
   "cell_type": "code",
   "execution_count": 3,
   "id": "400a0e09",
   "metadata": {},
   "outputs": [],
   "source": [
    "import pandas as pd\n",
    "import numpy as np\n",
    "\n",
    "# Visualisatie\n",
    "import matplotlib.pyplot as plt\n",
    "import seaborn as sns\n",
    "\n",
    "# Modeling & evaluatie\n",
    "# import sklearn\n",
    "\n",
    "# Hiermee laat je alle kolommen standaard zien\n",
    "pd.set_option('display.max_columns', None)"
   ]
  },
  {
   "cell_type": "markdown",
   "id": "d863c364",
   "metadata": {},
   "source": [
    "## 2. Probleemdefinitie\n",
    "\n",
    "- **Input**: passagiersgegevens zoals `Pclass`, `Sex`, `Age`, `SibSp`, `Parch`, `Fare`, `Embarked`, etc.\n",
    "- **Output**: binaire target `Survived` (0 = niet overleefd, 1 = overleefd).\n",
    "- **Metric (Kaggle leaderboard)**: **Accuracy** op de testset (zonder labels).\n"
   ]
  },
  {
   "cell_type": "markdown",
   "id": "1da28555",
   "metadata": {},
   "source": [
    "## 3. Data inladen"
   ]
  },
  {
   "cell_type": "code",
   "execution_count": 4,
   "id": "59855006",
   "metadata": {},
   "outputs": [
    {
     "name": "stdout",
     "output_type": "stream",
     "text": [
      "(891, 12) (418, 11)\n"
     ]
    },
    {
     "data": {
      "text/html": [
       "<div>\n",
       "<style scoped>\n",
       "    .dataframe tbody tr th:only-of-type {\n",
       "        vertical-align: middle;\n",
       "    }\n",
       "\n",
       "    .dataframe tbody tr th {\n",
       "        vertical-align: top;\n",
       "    }\n",
       "\n",
       "    .dataframe thead th {\n",
       "        text-align: right;\n",
       "    }\n",
       "</style>\n",
       "<table border=\"1\" class=\"dataframe\">\n",
       "  <thead>\n",
       "    <tr style=\"text-align: right;\">\n",
       "      <th></th>\n",
       "      <th>PassengerId</th>\n",
       "      <th>Survived</th>\n",
       "      <th>Pclass</th>\n",
       "      <th>Name</th>\n",
       "      <th>Sex</th>\n",
       "      <th>Age</th>\n",
       "      <th>SibSp</th>\n",
       "      <th>Parch</th>\n",
       "      <th>Ticket</th>\n",
       "      <th>Fare</th>\n",
       "      <th>Cabin</th>\n",
       "      <th>Embarked</th>\n",
       "    </tr>\n",
       "  </thead>\n",
       "  <tbody>\n",
       "    <tr>\n",
       "      <th>0</th>\n",
       "      <td>1</td>\n",
       "      <td>0</td>\n",
       "      <td>3</td>\n",
       "      <td>Braund, Mr. Owen Harris</td>\n",
       "      <td>male</td>\n",
       "      <td>22.0</td>\n",
       "      <td>1</td>\n",
       "      <td>0</td>\n",
       "      <td>A/5 21171</td>\n",
       "      <td>7.2500</td>\n",
       "      <td>NaN</td>\n",
       "      <td>S</td>\n",
       "    </tr>\n",
       "    <tr>\n",
       "      <th>1</th>\n",
       "      <td>2</td>\n",
       "      <td>1</td>\n",
       "      <td>1</td>\n",
       "      <td>Cumings, Mrs. John Bradley (Florence Briggs Th...</td>\n",
       "      <td>female</td>\n",
       "      <td>38.0</td>\n",
       "      <td>1</td>\n",
       "      <td>0</td>\n",
       "      <td>PC 17599</td>\n",
       "      <td>71.2833</td>\n",
       "      <td>C85</td>\n",
       "      <td>C</td>\n",
       "    </tr>\n",
       "    <tr>\n",
       "      <th>2</th>\n",
       "      <td>3</td>\n",
       "      <td>1</td>\n",
       "      <td>3</td>\n",
       "      <td>Heikkinen, Miss. Laina</td>\n",
       "      <td>female</td>\n",
       "      <td>26.0</td>\n",
       "      <td>0</td>\n",
       "      <td>0</td>\n",
       "      <td>STON/O2. 3101282</td>\n",
       "      <td>7.9250</td>\n",
       "      <td>NaN</td>\n",
       "      <td>S</td>\n",
       "    </tr>\n",
       "    <tr>\n",
       "      <th>3</th>\n",
       "      <td>4</td>\n",
       "      <td>1</td>\n",
       "      <td>1</td>\n",
       "      <td>Futrelle, Mrs. Jacques Heath (Lily May Peel)</td>\n",
       "      <td>female</td>\n",
       "      <td>35.0</td>\n",
       "      <td>1</td>\n",
       "      <td>0</td>\n",
       "      <td>113803</td>\n",
       "      <td>53.1000</td>\n",
       "      <td>C123</td>\n",
       "      <td>S</td>\n",
       "    </tr>\n",
       "    <tr>\n",
       "      <th>4</th>\n",
       "      <td>5</td>\n",
       "      <td>0</td>\n",
       "      <td>3</td>\n",
       "      <td>Allen, Mr. William Henry</td>\n",
       "      <td>male</td>\n",
       "      <td>35.0</td>\n",
       "      <td>0</td>\n",
       "      <td>0</td>\n",
       "      <td>373450</td>\n",
       "      <td>8.0500</td>\n",
       "      <td>NaN</td>\n",
       "      <td>S</td>\n",
       "    </tr>\n",
       "  </tbody>\n",
       "</table>\n",
       "</div>"
      ],
      "text/plain": [
       "   PassengerId  Survived  Pclass  \\\n",
       "0            1         0       3   \n",
       "1            2         1       1   \n",
       "2            3         1       3   \n",
       "3            4         1       1   \n",
       "4            5         0       3   \n",
       "\n",
       "                                                Name     Sex   Age  SibSp  \\\n",
       "0                            Braund, Mr. Owen Harris    male  22.0      1   \n",
       "1  Cumings, Mrs. John Bradley (Florence Briggs Th...  female  38.0      1   \n",
       "2                             Heikkinen, Miss. Laina  female  26.0      0   \n",
       "3       Futrelle, Mrs. Jacques Heath (Lily May Peel)  female  35.0      1   \n",
       "4                           Allen, Mr. William Henry    male  35.0      0   \n",
       "\n",
       "   Parch            Ticket     Fare Cabin Embarked  \n",
       "0      0         A/5 21171   7.2500   NaN        S  \n",
       "1      0          PC 17599  71.2833   C85        C  \n",
       "2      0  STON/O2. 3101282   7.9250   NaN        S  \n",
       "3      0            113803  53.1000  C123        S  \n",
       "4      0            373450   8.0500   NaN        S  "
      ]
     },
     "execution_count": 4,
     "metadata": {},
     "output_type": "execute_result"
    }
   ],
   "source": [
    "# Je gaat werken met de train data. In de test data staan de Survived kolom niet ingevuld. Deze moet je dus zelf voorspellen.\n",
    "\n",
    "train = pd.read_csv(\"train.csv\")\n",
    "test = pd.read_csv(\"test.csv\")\n",
    "\n",
    "train.describe()\n",
    "\n",
    "print(train.shape, test.shape)\n",
    "train.head()"
   ]
  },
  {
   "cell_type": "markdown",
   "id": "dfecfbe5",
   "metadata": {},
   "source": [
    "## 4. Snelle datacheck & Preprocessing\n",
    "\n",
    "Waar missen we (rijen met) data? Je kan missende data invullen door bijvoorbeeld voor bepaalde soort data op een bepaalde manier in te vullen:\n",
    "\n",
    "- Numeriek: imputatie (median) + scaling\n",
    "- Categorisch: imputatie (most_frequent) + one-hot encoding"
   ]
  },
  {
   "cell_type": "code",
   "execution_count": 5,
   "id": "0b2295e8",
   "metadata": {},
   "outputs": [
    {
     "data": {
      "text/plain": [
       "PassengerId      0\n",
       "Survived         0\n",
       "Pclass           0\n",
       "Name             0\n",
       "Sex              0\n",
       "Age            177\n",
       "SibSp            0\n",
       "Parch            0\n",
       "Ticket           0\n",
       "Fare             0\n",
       "Cabin          687\n",
       "Embarked         2\n",
       "dtype: int64"
      ]
     },
     "execution_count": 5,
     "metadata": {},
     "output_type": "execute_result"
    }
   ],
   "source": [
    "#display(train.sample(5, random_state=42))\n",
    "#display(train.describe(include='all'))\n",
    "#train.isna().mean().sort_values(ascending=False)[:10]\n",
    "\n",
    "train.isna().sum()"
   ]
  },
  {
   "cell_type": "markdown",
   "id": "92d6351f",
   "metadata": {},
   "source": [
    "## 5. Verkennende Data Analyse (EDA)\n",
    "\n",
    "> Tip: Voeg hier extra grafieken toe (bijv. histogrammen, boxplots, countplots per feature).\n"
   ]
  },
  {
   "cell_type": "code",
   "execution_count": 11,
   "id": "60c76de3",
   "metadata": {},
   "outputs": [
    {
     "name": "stdout",
     "output_type": "stream",
     "text": [
      "Survived         0         1\n",
      "Pclass                      \n",
      "1         0.370370  0.629630\n",
      "2         0.527174  0.472826\n",
      "3         0.757637  0.242363\n",
      "Survived         0         1\n",
      "Sex                         \n",
      "female    0.257962  0.742038\n",
      "male      0.811092  0.188908\n",
      "0.04578425524254607\n"
     ]
    }
   ],
   "source": [
    "# Voorbeeld: verdeling overleven per geslacht\n",
    "Sex_n = pd.crosstab(train['Sex'], train['Survived'], normalize='index')\n",
    "Pclass_n = pd.crosstab(train['Pclass'], train['Survived'], normalize='index')\n",
    "Ticket_n = pd.crosstab(train['Ticket'], train['Survived'], normalize='index')\n",
    "Age_n = pd.crosstab(train['Age'], train['Survived'], normalize='index')\n",
    "\n",
    "print(Pclass_n)\n",
    "print(Sex_n)\n",
    "\n",
    "dic = {'Sex':'female', 'Pclass':2,\n",
    "       'Sex':'male', 'Pclass':3}\n",
    "\n",
    "a = Sex_n[1].loc[dic['Sex']]\n",
    "b = Pclass_n[1].loc[dic['Pclass']]\n",
    "\n",
    "print(a * b)"
   ]
  },
  {
   "cell_type": "code",
   "execution_count": 12,
   "id": "9aeb1d0c",
   "metadata": {},
   "outputs": [
    {
     "data": {
      "text/plain": [
       "Survived\n",
       "0    0.616162\n",
       "1    0.383838\n",
       "Name: proportion, dtype: float64"
      ]
     },
     "execution_count": 12,
     "metadata": {},
     "output_type": "execute_result"
    }
   ],
   "source": [
    "train['Survived'].value_counts(normalize=True)"
   ]
  },
  {
   "cell_type": "code",
   "execution_count": 13,
   "id": "96996bde",
   "metadata": {},
   "outputs": [
    {
     "data": {
      "image/png": "[encoded data removed]",
      "text/plain": [
       "<Figure size 1200x500 with 1 Axes>"
      ]
     },
     "metadata": {},
     "output_type": "display_data"
    }
   ],
   "source": [
    "# Convert Series to DataFrame\n",
    "df = Age_n[1].reset_index()\n",
    "df.columns = [\"Age\", \"SurvivalChance\"]\n",
    "\n",
    "# Plot as bar chart\n",
    "plt.figure(figsize=(12,5))\n",
    "plt.bar(df[\"Age\"], df[\"SurvivalChance\"], width=0.4)\n",
    "plt.xlabel(\"Age\")\n",
    "plt.ylabel(\"Survival Chance\")\n",
    "plt.title(\"Survival Chance per Age\")\n",
    "plt.show()\n"
   ]
  },
  {
   "cell_type": "code",
   "execution_count": 9,
   "id": "d582f6cf",
   "metadata": {},
   "outputs": [
    {
     "data": {
      "image/png": "[encoded data removed]",
      "text/plain": [
       "<Figure size 600x400 with 1 Axes>"
      ]
     },
     "metadata": {},
     "output_type": "display_data"
    },
    {
     "data": {
      "image/png": "[encoded data removed]",
      "text/plain": [
       "<Figure size 640x480 with 1 Axes>"
      ]
     },
     "metadata": {},
     "output_type": "display_data"
    }
   ],
   "source": [
    "# Voorbeeld: verdeling leeftijd (met eenvoudige imputatie voor visualisatie)\n",
    "# we verwijderen simpelweg alle rijen waar geen leeftijd bekend is.\n",
    "ages = train['Age'].dropna()\n",
    "plt.figure(figsize=(6,4))\n",
    "plt.hist(ages, bins=30)\n",
    "plt.title('Leeftijdsverdeling (train)')\n",
    "plt.xlabel('Leeftijd'); plt.ylabel('Aantal')\n",
    "plt.show()\n",
    "\n",
    "sns.histplot(ages)\n",
    "plt.title('Leeftijdsverdeling (train)')\n",
    "plt.xlabel('Leeftijd'); plt.ylabel('Aantal')\n",
    "plt.show()"
   ]
  },
  {
   "cell_type": "code",
   "execution_count": null,
   "id": "581be52c",
   "metadata": {},
   "outputs": [],
   "source": [
    "# Oefening: voeg je eigen EDA toe\n",
    "# Gebruik Seaborn in plaats van Matplotlib.\n",
    "# TODO: tel bijvoorbeeld overlevingspercentage per Pclass, Embarked, Fare-quantiles (pd.qcut), etc."
   ]
  },
  {
   "cell_type": "markdown",
   "id": "6c88cc29",
   "metadata": {},
   "source": [
    "## 6. Feature Engineering\n",
    "\n",
    "Voeg hier zelf extra features toe (bijv. `Title` uit `Name`, `FamilySize = SibSp + Parch + 1`, indicatoren, etc.).\n",
    "\n",
    "Zorg wel dat het relevant is voor je eigen onderzoek. Waar ligt je eigen focus."
   ]
  },
  {
   "cell_type": "code",
   "execution_count": null,
   "id": "e9970331",
   "metadata": {},
   "outputs": [],
   "source": [
    "# Je kan nu zelf features aanmaken invullen. "
   ]
  },
  {
   "cell_type": "markdown",
   "id": "361f4ee4",
   "metadata": {},
   "source": [
    "## 7. Baseline model — np.where invullen"
   ]
  },
  {
   "cell_type": "code",
   "execution_count": null,
   "id": "5350f82d",
   "metadata": {},
   "outputs": [],
   "source": [
    "# === 3. Regelgebaseerde baseline met np.where ===\n",
    "# Regel: vrouwen overleven altijd, jongens (<10 jaar) ook, anders niet\n",
    "train_pred = np.where(\n",
    "    (train['Sex'] == 'female') | ((train['Sex'] == 'male') & (train['Age'] < 10)),\n",
    "    1, 0\n",
    ")"
   ]
  },
  {
   "cell_type": "markdown",
   "id": "83ef075a",
   "metadata": {},
   "source": [
    "## 8. Maak een eindmodel op volledige trainingsdata en voorspel op test\n",
    "\n",
    "Hier kiezen we als voorbeeld het np.where model (of gebruik anders een ander model).\n"
   ]
  },
  {
   "cell_type": "code",
   "execution_count": null,
   "id": "899c8852",
   "metadata": {},
   "outputs": [],
   "source": [
    "# === 4. Toepassen op testset ===\n",
    "test_pred = np.where(\n",
    "    (test['Sex'] == 'female') | ((test['Sex'] == 'male') & (test['Age'] < 10)),\n",
    "    1, 0\n",
    ")\n",
    "\n",
    "submission = pd.DataFrame({\n",
    "    'PassengerId': test['PassengerId'],\n",
    "    'Survived': test_pred.astype(int)\n",
    "})\n",
    "\n",
    "submission.to_csv(\"submission.csv\", index=False)\n",
    "print(\"submission.csv aangemaakt!\")\n",
    "submission.head()"
   ]
  },
  {
   "cell_type": "markdown",
   "id": "217004dc",
   "metadata": {},
   "source": [
    "## 9. Checklist & Volgende stappen\n",
    "\n",
    "- [ ] Zorg dat er een duidelijke samenhang is tussen de grafieken -> Feature Engineering -> je uiteindelijke model! Dat is het belangrijkst.\n",
    "- [ ] Laat geen grafieken zien waar je niks mee doet tijdens de presentatie.\n",
    "- [ ] Zorg dat er dus een rode draad is in je verhaal. \n",
    "\n",
    "Voorbeeld: We hebben de focus gelegd op leeftijd -> EDA laat deze grafieken met leeftijd zien. We hebben met Feature Engineering nog leeftijdsgroepen aangemaakt -> We hebben in het model de leeftijden gebruikt. Dit is onze score.\n",
    "\n",
    "- [ ] Eventueel EDA (een klein beetje) uitbreiden (meer grafieken, correlaties, outliers)\n",
    "- [ ] Feature engineering verbeteren (wat is er relevant?)\n",
    "- [ ] Meer modellen proberen (Logistic Regression? Sklearn)\n",
    "- [ ] Submission inleveren op kaggle en kijken hoe goed je score is\n",
    "\n",
    "Succes met de case!"
   ]
  }
 ],
 "metadata": {
  "kernelspec": {
   "display_name": "base",
   "language": "python",
   "name": "python3"
  },
  "language_info": {
   "codemirror_mode": {
    "name": "ipython",
    "version": 3
   },
   "file_extension": ".py",
   "mimetype": "text/x-python",
   "name": "python",
   "nbconvert_exporter": "python",
   "pygments_lexer": "ipython3",
   "version": "3.12.7"
  }
 },
 "nbformat": 4,
 "nbformat_minor": 5
}
