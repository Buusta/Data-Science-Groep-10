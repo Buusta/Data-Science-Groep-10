{
 "cells": [
  {
   "cell_type": "markdown",
   "id": "3d65b390",
   "metadata": {},
   "source": [
    "# Data Science template - Titanic Case\n",
    "\n",
    "Deze notebook begeleidt je stap voor stap door de **Titanic**-case op Kaggle.\n",
    "De focus ligt op de standaard Data Science workflow:\n",
    "\n",
    "1. Probleemdefinitie en doel\n",
    "2. Data-input & Data cleaning\n",
    "3. Verkenning (EDA)\n",
    "4. Feature engineering\n",
    "5. Modelleren (baseline → verbeterde modellen)\n",
    "6. **Voorspelling** en export van `submission.csv`\n",
    "\n",
    "> 🎯 Doel: voorspel de kans dat een passagier de Titanic-vaart heeft overleefd (`Survived`)."
   ]
  },
  {
   "cell_type": "markdown",
   "id": "f677eee8",
   "metadata": {},
   "source": [
    "## 0. Doel & Omgevings-setup\n",
    "\n",
    "- Download `train.csv` en `test.csv` handmatig van de Titanic-competitiepagina en plaats ze in een bijvoorbeeld in dezelfde map als dit bestand.\n"
   ]
  },
  {
   "cell_type": "code",
   "execution_count": 1,
   "id": "7b57a075",
   "metadata": {},
   "outputs": [],
   "source": [
    "# !python --version\n"
   ]
  },
  {
   "cell_type": "markdown",
   "id": "773e7334",
   "metadata": {},
   "source": [
    "## 1. Imports"
   ]
  },
  {
   "cell_type": "code",
   "execution_count": 2,
   "id": "400a0e09",
   "metadata": {},
   "outputs": [],
   "source": [
    "import pandas as pd\n",
    "import numpy as np\n",
    "import matplotlib.pyplot as plt\n",
    "import seaborn as sns"
   ]
  },
  {
   "cell_type": "markdown",
   "id": "d863c364",
   "metadata": {},
   "source": [
    "## 2. Probleemdefinitie\n",
    "\n",
    "- **Input**: passagiersgegevens zoals `Pclass`, `Sex`, `Age`, `SibSp`, `Parch`, `Fare`, `Embarked`, etc.\n",
    "- **Output**: binaire target `Survived` (0 = niet overleefd, 1 = overleefd).\n",
    "- **Metric (Kaggle leaderboard)**: **Accuracy** op de testset (zonder labels).\n"
   ]
  },
  {
   "cell_type": "markdown",
   "id": "1da28555",
   "metadata": {},
   "source": [
    "## 3. Data inladen"
   ]
  },
  {
   "cell_type": "code",
   "execution_count": 3,
   "id": "59855006",
   "metadata": {},
   "outputs": [
    {
     "name": "stdout",
     "output_type": "stream",
     "text": [
      "PassengerId      0\n",
      "Survived         0\n",
      "Pclass           0\n",
      "Name             0\n",
      "Sex              0\n",
      "Age            177\n",
      "SibSp            0\n",
      "Parch            0\n",
      "Ticket           0\n",
      "Fare             0\n",
      "Cabin          687\n",
      "Embarked         2\n",
      "dtype: int64\n"
     ]
    }
   ],
   "source": [
    "# Je gaat werken met de train data. In de test data staan de Survived kolom niet ingevuld. Deze moet je dus zelf voorspellen.\n",
    "\n",
    "train = pd.read_csv(\"train.csv\")\n",
    "test = pd.read_csv(\"test.csv\")\n",
    "\n",
    "print(train.isna().sum())"
   ]
  },
  {
   "cell_type": "markdown",
   "id": "dfecfbe5",
   "metadata": {},
   "source": [
    "## 4. Snelle datacheck & Preprocessing\n",
    "\n",
    "Waar missen we (rijen met) data? Je kan missende data invullen door bijvoorbeeld voor bepaalde soort data op een bepaalde manier in te vullen:\n",
    "\n",
    "- Numeriek: imputatie (median) + scaling\n",
    "- Categorisch: imputatie (most_frequent) + one-hot encoding"
   ]
  },
  {
   "cell_type": "code",
   "execution_count": 4,
   "id": "0b2295e8",
   "metadata": {},
   "outputs": [],
   "source": [
    "# Bereken gemiddelde en standaarddeviatie van bestaande leeftijden\n",
    "mean_age = train[\"Age\"].mean()\n",
    "std_age = train[\"Age\"].std()\n",
    "\n",
    "# Vul missende leeftijden in met normale verdeling en clamp tussen 0 en 81\n",
    "train[\"Age\"] = train[\"Age\"].apply(\n",
    "    lambda x: int(np.clip(np.random.normal(mean_age, std_age), 0, 81)) if pd.isna(x) else x\n",
    ")\n",
    "\n",
    "# Bereken gemiddelde en standaarddeviatie van bestaande leeftijden\n",
    "mean_age = test[\"Age\"].mean()\n",
    "std_age = test[\"Age\"].std()\n",
    "\n",
    "# Vul missende leeftijden in met normale verdeling en clamp tussen 0 en 81\n",
    "test[\"Age\"] = test[\"Age\"].apply(\n",
    "    lambda x: int(np.clip(np.random.normal(mean_age, std_age), 0, 81)) if pd.isna(x) else x\n",
    ")\n",
    "\n",
    "# maak een dictionaries van Sex en Embarked\n",
    "dict_Embarked = {'S':0, 'C':1, 'Q':2} \n",
    "dict_Sex = {\"male\": 0, \"female\": 1}\n",
    "dict_Pclass = {1:0, 2:1, 3:2}\n",
    "\n",
    "# drop missing values of column 'Embarked'\n",
    "train = train.dropna(subset=['Embarked'])\n",
    "test = test.dropna(subset=['Embarked'])\n",
    "\n",
    "# maak nieuwe kolommen voor sex en Embarked voor train data\n",
    "train['Embarked_int'] = train['Embarked'].map(dict_Embarked)\n",
    "train[\"Sex_int\"] = train[\"Sex\"].map(dict_Sex)\n",
    "train['Pclass_0'] = train['Pclass'].map(dict_Pclass)\n",
    "\n",
    "test['Embarked_int'] = test['Embarked'].map(dict_Embarked)\n",
    "test[\"Sex_int\"] = test[\"Sex\"].map(dict_Sex)\n",
    "test['Pclass_0'] = test['Pclass'].map(dict_Pclass)\n",
    "\n",
    "# maak PassengerId kolom de index\n",
    "test = test.set_index('PassengerId')\n",
    "train = train.set_index('PassengerId')\n",
    "\n",
    "\n",
    "# maak globale survival rate\n",
    "survival_rate = train['Survived'].value_counts(normalize=True)[1]\n",
    "\n",
    "# maak rijen voor de survival_rates_lookup met specefieke bins\n",
    "def make_survivle_table(col, bins):\n",
    "    bins = pd.cut(train[col], bins=bins, right=False)\n",
    "    counts = bins.value_counts().sort_index()\n",
    "    probs  = train.groupby(bins, observed=True)['Survived'].mean().reindex(counts.index)\n",
    "    probs = probs.fillna(survival_rate)\n",
    "\n",
    "    temp_df = pd.DataFrame({\n",
    "      'bin': counts.index,\n",
    "      'prob': probs.values,\n",
    "      'count': counts.values\n",
    "    }, index=[col]*len(counts))\n",
    "\n",
    "    return temp_df\n",
    "\n",
    "# maak rijen voor de survival_rates_lookup met quantitatieve bins (gelijke verdeling voor de bins)\n",
    "def qmake_survivle_table(col, q):\n",
    "    bins = pd.qcut(train[col], q=q, duplicates='drop')\n",
    "\n",
    "    counts = bins.value_counts().sort_index()\n",
    "    probs  = train.groupby(bins, observed=True)['Survived'].mean().reindex(counts.index)\n",
    "    probs = probs.fillna(survival_rate)\n",
    "\n",
    "    temp_df = pd.DataFrame({\n",
    "        'bin': counts.index,\n",
    "        'prob': probs.values,\n",
    "        'count': counts.values\n",
    "    }, index=[col]*len(counts))\n",
    "\n",
    "    return temp_df\n",
    "\n",
    "\n",
    "bSurvival_rates_lookup = pd.DataFrame() # maak lege dataframe\n",
    "\n",
    "# maak rijen voor de features\n",
    "qAge_bins_n = qmake_survivle_table('Age', 10)\n",
    "qFare_bins_n = qmake_survivle_table('Fare', 25)\n",
    "qSex_bins_n = make_survivle_table('Sex_int', range(0, 3, 1))\n",
    "qSibSp_bins_n = make_survivle_table('SibSp', range(0, 8, 1))\n",
    "qParch_bins_n = make_survivle_table('Parch', range(0, 8, 1))\n",
    "qEmbarked_bins_n = make_survivle_table('Embarked_int', range(0, 4, 1))\n",
    "qPclass_bins_n = make_survivle_table('Pclass_0', range(0, 4, 1))\n",
    "\n",
    "# voeg feature rows toe aan de lege tabel\n",
    "qSurvival_rates_lookup = pd.concat([bSurvival_rates_lookup,\n",
    "                                    qAge_bins_n, \n",
    "                                    qFare_bins_n,\n",
    "                                    qSex_bins_n,\n",
    "                                    qSibSp_bins_n,\n",
    "                                    qParch_bins_n,\n",
    "                                    qEmbarked_bins_n,\n",
    "                                    qPclass_bins_n])\n"
   ]
  },
  {
   "cell_type": "markdown",
   "id": "92d6351f",
   "metadata": {},
   "source": [
    "## 5. Verkennende Data Analyse (EDA)\n",
    "\n",
    "> Tip: Voeg hier extra grafieken toe (bijv. histogrammen, boxplots, countplots per feature).\n"
   ]
  },
  {
   "cell_type": "code",
   "execution_count": 5,
   "id": "96996bde",
   "metadata": {},
   "outputs": [],
   "source": [
    "# Convert Series to DataFrame\n",
    "#df = FS_n[1].reset_index()\n",
    "#df.columns = [\"Age\", \"SurvivalChance\"]\n",
    "\n",
    "# Choose bin size (e.g., 10 years)\n",
    "#bin_size = 1\n",
    "#bins = range(0, int(df[\"Age\"].max()) + bin_size, bin_size)\n",
    "\n",
    "# Cut ages into bins and compute mean survival chance\n",
    "#df[\"AgeBin\"] = pd.cut(df[\"Age\"], bins=bins, right=False)\n",
    "#survival_by_bin = df.groupby(\"AgeBin\")[\"SurvivalChance\"].mean()\n",
    "\n",
    "# Plot histogram (bar chart of averages per bin)\n",
    "#plt.figure(figsize=(10,5))\n",
    "#survival_by_bin.plot(kind=\"bar\", width=0.8)\n",
    "#plt.xlabel(\"Age Group\")\n",
    "#plt.ylabel(\"Average Survival Chance\")\n",
    "#plt.title(f\"Average Survival Chance per {bin_size}-Year Age Bin\")\n",
    "#plt.show()\n"
   ]
  },
  {
   "cell_type": "markdown",
   "id": "6c88cc29",
   "metadata": {},
   "source": [
    "## 6. Feature Engineering\n",
    "\n",
    "Voeg hier zelf extra features toe (bijv. `Title` uit `Name`, `FamilySize = SibSp + Parch + 1`, indicatoren, etc.).\n",
    "\n",
    "Zorg wel dat het relevant is voor je eigen onderzoek. Waar ligt je eigen focus."
   ]
  },
  {
   "cell_type": "code",
   "execution_count": 6,
   "id": "e9970331",
   "metadata": {},
   "outputs": [
    {
     "name": "stdout",
     "output_type": "stream",
     "text": [
      "PassengerId\n",
      "1      2\n",
      "2      2\n",
      "3      1\n",
      "4      2\n",
      "5      1\n",
      "      ..\n",
      "887    1\n",
      "888    1\n",
      "889    4\n",
      "890    1\n",
      "891    1\n",
      "Name: FamilySize, Length: 889, dtype: int64\n"
     ]
    },
    {
     "data": {
      "text/plain": [
       "' \\n# maak een dictionaries van Sex en Embarked\\ndict_Embarked = {\\'S\\':0, \\'C\\':1, \\'Q\\':2} \\ndict_Sex = {\"male\": 0, \"female\": 1}\\ndict_Pclass = {1:0, 2:1, 3:2}\\n\\n# drop missing values of column \\'Embarked\\'\\ntrain = train.dropna(subset=[\\'Embarked\\'])\\n\\n# maak nieuwe kolommen voor sex en Embarked\\ntrain[\\'Embarked_int\\'] = train[\\'Embarked\\'].map(dict_Embarked)\\ntrain[\"Sex_int\"] = train[\"Sex\"].map(dict_Sex)\\ntrain[\\'Pclass_0\\'] = train[\\'Pclass\\'].map(dict_Pclass)\\n\\ntrain = train.dropna(subset=[\\'Embarked\\'])\\n'"
      ]
     },
     "execution_count": 6,
     "metadata": {},
     "output_type": "execute_result"
    }
   ],
   "source": [
    "# Je kan nu zelf features aanmaken invullen. \n",
    "train['FamilySize'] = train['SibSp'] + train['Parch'] + 1\n",
    "\n",
    "print(train['FamilySize'])\n",
    "FS_n = pd.crosstab(train['FamilySize'], train['Survived'], normalize='index')\n",
    "\n",
    "\n",
    "''' \n",
    "# maak een dictionaries van Sex en Embarked\n",
    "dict_Embarked = {'S':0, 'C':1, 'Q':2} \n",
    "dict_Sex = {\"male\": 0, \"female\": 1}\n",
    "dict_Pclass = {1:0, 2:1, 3:2}\n",
    "\n",
    "# drop missing values of column 'Embarked'\n",
    "train = train.dropna(subset=['Embarked'])\n",
    "\n",
    "# maak nieuwe kolommen voor sex en Embarked\n",
    "train['Embarked_int'] = train['Embarked'].map(dict_Embarked)\n",
    "train[\"Sex_int\"] = train[\"Sex\"].map(dict_Sex)\n",
    "train['Pclass_0'] = train['Pclass'].map(dict_Pclass)\n",
    "\n",
    "train = train.dropna(subset=['Embarked'])\n",
    "'''"
   ]
  },
  {
   "cell_type": "markdown",
   "id": "361f4ee4",
   "metadata": {},
   "source": [
    "## 7. Baseline model — np.where invullen"
   ]
  },
  {
   "cell_type": "code",
   "execution_count": 7,
   "id": "5350f82d",
   "metadata": {},
   "outputs": [],
   "source": [
    "# Zoek overlevingspercentage die hoort bij invoer\n",
    "def lookup_probability(index, value):\n",
    "    feature_rows = qSurvival_rates_lookup.loc[index]\n",
    "    row = feature_rows[feature_rows['bin'].apply(lambda x: value in x)]\n",
    "\n",
    "    if not row.empty:\n",
    "        if row['prob'].iloc[0] <= 1e-2:  # als overlevingskans klein is maak .01 (1%)\n",
    "            return 1e-2\n",
    "        else:\n",
    "            return row['prob'].iloc[0]\n",
    "    else:\n",
    "        return survival_rate\n"
   ]
  },
  {
   "cell_type": "code",
   "execution_count": 8,
   "id": "54a95fab",
   "metadata": {},
   "outputs": [],
   "source": [
    "# definieer weights voor features\n",
    "Age_weight = .7\n",
    "Fare_weight = 0.2\n",
    "Sex_weight = 1.5\n",
    "SibSp_weight = 1\n",
    "Parch_weight = 1.05\n",
    "Emabrked_weight = 1\n",
    "Class_weight = .0\n",
    "\n",
    "# maak Dataframe aan voor de test data\n",
    "SurvivalTest = pd.DataFrame(index=test.index)\n",
    "SurvivalTest['pAge'] = test['Age'].apply(lambda v: lookup_probability('Age', v))\n",
    "SurvivalTest['pFare'] = test['Fare'].apply(lambda v: lookup_probability('Fare', v))\n",
    "SurvivalTest['pSex'] = test['Sex_int'].apply(lambda v: lookup_probability('Sex_int', v))\n",
    "SurvivalTest['pSibSp'] = test['SibSp'].apply(lambda v: lookup_probability('SibSp', v)) \n",
    "SurvivalTest['pParch'] = test['Parch'].apply(lambda v: lookup_probability('Parch', v))\n",
    "SurvivalTest['pEmbarked'] = test['Embarked_int'].apply(lambda v: lookup_probability('Embarked_int', v))\n",
    "SurvivalTest['pPclass'] = test['Pclass_0'].apply(lambda v: lookup_probability('Pclass_0', v))\n",
    "\n",
    "# maak kolom oon voor overlevingskans\n",
    "SurvivalTest['pSurvive'] = (\n",
    "    Age_weight *  np.log(SurvivalTest['pAge']) +\n",
    "    Fare_weight * np.log(SurvivalTest['pFare']) +\n",
    "    Sex_weight * np.log(SurvivalTest['pSex']) +\n",
    "    SibSp_weight * np.log(SurvivalTest['pSibSp']) +\n",
    "    Parch_weight * np.log(SurvivalTest['pParch']) +\n",
    "    Emabrked_weight * np.log(SurvivalTest['pEmbarked']) +\n",
    "    Class_weight * np.log(SurvivalTest['pPclass'])\n",
    ")\n",
    "\n",
    "# maak kolom aan voor sterf kans\n",
    "SurvivalTest['pDie'] = (\n",
    "    Age_weight * np.log(1 - SurvivalTest['pAge']) +\n",
    "    Fare_weight * np.log(1 - SurvivalTest['pFare']) +\n",
    "    Sex_weight * np.log(1 - SurvivalTest['pSex']) +\n",
    "    SibSp_weight * np.log(1 - SurvivalTest['pSibSp']) +\n",
    "    Parch_weight * np.log(1 - SurvivalTest['pParch']) +\n",
    "    Emabrked_weight * np.log(1 - SurvivalTest['pEmbarked']) +\n",
    "    Class_weight * np.log(1 - SurvivalTest['pPclass'])\n",
    ")\n",
    "\n",
    "# gebruik overleving en sterf kans om totale overlevingskans te maken\n",
    "SurvivalTest['pTotal'] = np.exp(SurvivalTest['pSurvive'] - SurvivalTest['pDie']) / (1 + np.exp(SurvivalTest['pSurvive'] - SurvivalTest['pDie']))\n",
    "\n",
    "# maak rank kolom gebaseerd op sorted totale overlevingskans\n",
    "SurvivalTest['rank'] = SurvivalTest['pTotal'].rank(method='first', ascending=False)\n",
    "n_survive = int(survival_rate * len(SurvivalTest))\n",
    "threshold_rank = n_survive\n",
    "# alles wat in de top 38% (survival_rate) zit, overleeft\n",
    "SurvivalTest['Survived_pred'] = (SurvivalTest['rank'] <= threshold_rank).astype(int)\n",
    "\n",
    "### USE ON TRAIN DATA\n",
    "# genereer overlevingskans fouten enz, helemaal mooi\n",
    "SurvivalTest['Survived_true'] = train['Survived']\n",
    "SurvivalTest['Wrong'] = SurvivalTest['Survived_pred'] != SurvivalTest['Survived_true']\n",
    "wrong_predictions = SurvivalTest[SurvivalTest['Survived_pred'] != SurvivalTest['Survived_true']]\n",
    "\n",
    "pred_fraction = SurvivalTest['Survived_pred'].mean()\n",
    "\n",
    "pred_survive_fraction = SurvivalTest['Survived_pred'].sum() / len(SurvivalTest)\n",
    "\n",
    "# geef weer welke rijen fout zijn\n",
    "SurvivalTest['Wrong'] = SurvivalTest['Survived_pred'] != SurvivalTest['Survived_true']\n",
    "\n",
    "# Count how many are wrong\n",
    "num_wrong = SurvivalTest['Wrong'].sum()\n",
    "\n",
    "wrong_predictions = SurvivalTest[SurvivalTest['Wrong']]\n",
    "\n",
    "# tel hoeveel foute predictions overlevend of stervend waren (hoe dichter bij overlevend=stervend, hoe beter)\n",
    "wrong_counts_by_true = wrong_predictions['Survived_true'].value_counts()"
   ]
  },
  {
   "cell_type": "markdown",
   "id": "83ef075a",
   "metadata": {},
   "source": [
    "## 8. Maak een eindmodel op volledige trainingsdata en voorspel op test\n",
    "\n",
    "Hier kiezen we als voorbeeld het np.where model (of gebruik anders een ander model).\n"
   ]
  },
  {
   "cell_type": "code",
   "execution_count": 12,
   "id": "899c8852",
   "metadata": {},
   "outputs": [
    {
     "name": "stdout",
     "output_type": "stream",
     "text": [
      "submission.csv aangemaakt!\n"
     ]
    },
    {
     "data": {
      "text/html": [
       "<div>\n",
       "<style scoped>\n",
       "    .dataframe tbody tr th:only-of-type {\n",
       "        vertical-align: middle;\n",
       "    }\n",
       "\n",
       "    .dataframe tbody tr th {\n",
       "        vertical-align: top;\n",
       "    }\n",
       "\n",
       "    .dataframe thead th {\n",
       "        text-align: right;\n",
       "    }\n",
       "</style>\n",
       "<table border=\"1\" class=\"dataframe\">\n",
       "  <thead>\n",
       "    <tr style=\"text-align: right;\">\n",
       "      <th></th>\n",
       "      <th>PassengerId</th>\n",
       "      <th>Survived</th>\n",
       "    </tr>\n",
       "    <tr>\n",
       "      <th>PassengerId</th>\n",
       "      <th></th>\n",
       "      <th></th>\n",
       "    </tr>\n",
       "  </thead>\n",
       "  <tbody>\n",
       "    <tr>\n",
       "      <th>892</th>\n",
       "      <td>892</td>\n",
       "      <td>0</td>\n",
       "    </tr>\n",
       "    <tr>\n",
       "      <th>893</th>\n",
       "      <td>893</td>\n",
       "      <td>1</td>\n",
       "    </tr>\n",
       "    <tr>\n",
       "      <th>894</th>\n",
       "      <td>894</td>\n",
       "      <td>0</td>\n",
       "    </tr>\n",
       "    <tr>\n",
       "      <th>895</th>\n",
       "      <td>895</td>\n",
       "      <td>0</td>\n",
       "    </tr>\n",
       "    <tr>\n",
       "      <th>896</th>\n",
       "      <td>896</td>\n",
       "      <td>1</td>\n",
       "    </tr>\n",
       "  </tbody>\n",
       "</table>\n",
       "</div>"
      ],
      "text/plain": [
       "             PassengerId  Survived\n",
       "PassengerId                       \n",
       "892                  892         0\n",
       "893                  893         1\n",
       "894                  894         0\n",
       "895                  895         0\n",
       "896                  896         1"
      ]
     },
     "execution_count": 12,
     "metadata": {},
     "output_type": "execute_result"
    }
   ],
   "source": [
    "submission = pd.DataFrame({ \n",
    "    'PassengerId' : SurvivalTest.index, \n",
    "    'Survived' : SurvivalTest['Survived_pred'] \n",
    "    })\n",
    "\n",
    "\n",
    "submission.to_csv(\"submission.csv\", index=False)\n",
    "print(\"submission.csv aangemaakt!\")\n",
    "submission.head()\n"
   ]
  },
  {
   "cell_type": "markdown",
   "id": "217004dc",
   "metadata": {},
   "source": [
    "## 9. Checklist & Volgende stappen\n",
    "\n",
    "- [ ] Zorg dat er een duidelijke samenhang is tussen de grafieken -> Feature Engineering -> je uiteindelijke model! Dat is het belangrijkst.\n",
    "- [ ] Laat geen grafieken zien waar je niks mee doet tijdens de presentatie.\n",
    "- [ ] Zorg dat er dus een rode draad is in je verhaal. \n",
    "\n",
    "Voorbeeld: We hebben de focus gelegd op leeftijd -> EDA laat deze grafieken met leeftijd zien. We hebben met Feature Engineering nog leeftijdsgroepen aangemaakt -> We hebben in het model de leeftijden gebruikt. Dit is onze score.\n",
    "\n",
    "- [ ] Eventueel EDA (een klein beetje) uitbreiden (meer grafieken, correlaties, outliers)\n",
    "- [ ] Feature engineering verbeteren (wat is er relevant?)\n",
    "- [ ] Meer modellen proberen (Logistic Regression? Sklearn)\n",
    "- [ ] Submission inleveren op kaggle en kijken hoe goed je score is\n",
    "\n",
    "Succes met de case!"
   ]
  }
 ],
 "metadata": {
  "kernelspec": {
   "display_name": "base",
   "language": "python",
   "name": "python3"
  },
  "language_info": {
   "codemirror_mode": {
    "name": "ipython",
    "version": 3
   },
   "file_extension": ".py",
   "mimetype": "text/x-python",
   "name": "python",
   "nbconvert_exporter": "python",
   "pygments_lexer": "ipython3",
   "version": "3.12.7"
  }
 },
 "nbformat": 4,
 "nbformat_minor": 5
}
