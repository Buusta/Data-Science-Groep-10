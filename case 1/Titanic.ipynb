{
 "cells": [
  {
   "cell_type": "markdown",
   "id": "3d65b390",
   "metadata": {},
   "source": [
    "# Data Science template - Titanic Case\n",
    "\n",
    "Deze notebook begeleidt je stap voor stap door de **Titanic**-case op Kaggle.\n",
    "De focus ligt op de standaard Data Science workflow:\n",
    "\n",
    "1. Probleemdefinitie en doel\n",
    "2. Data-input & Data cleaning\n",
    "3. Verkenning (EDA)\n",
    "4. Feature engineering\n",
    "5. Modelleren (baseline → verbeterde modellen)\n",
    "6. **Voorspelling** en export van `submission.csv`\n",
    "\n",
    "> 🎯 Doel: voorspel de kans dat een passagier de Titanic-vaart heeft overleefd (`Survived`)."
   ]
  },
  {
   "cell_type": "markdown",
   "id": "f677eee8",
   "metadata": {},
   "source": [
    "## 0. Doel & Omgevings-setup\n",
    "\n",
    "- Download `train.csv` en `test.csv` handmatig van de Titanic-competitiepagina en plaats ze in een bijvoorbeeld in dezelfde map als dit bestand.\n"
   ]
  },
  {
   "cell_type": "code",
   "execution_count": 1,
   "id": "7b57a075",
   "metadata": {},
   "outputs": [],
   "source": [
    "# !python --version\n"
   ]
  },
  {
   "cell_type": "markdown",
   "id": "773e7334",
   "metadata": {},
   "source": [
    "## 1. Imports"
   ]
  },
  {
   "cell_type": "code",
   "execution_count": 6,
   "id": "400a0e09",
   "metadata": {},
   "outputs": [
    {
     "name": "stdout",
     "output_type": "stream",
     "text": [
      "PassengerId      0\n",
      "Survived         0\n",
      "Pclass           0\n",
      "Name             0\n",
      "Sex              0\n",
      "Age              0\n",
      "SibSp            0\n",
      "Parch            0\n",
      "Ticket           0\n",
      "Fare             0\n",
      "Cabin          687\n",
      "Embarked         2\n",
      "dtype: int64\n",
      "0      22.0\n",
      "1      38.0\n",
      "2      26.0\n",
      "3      35.0\n",
      "4      35.0\n",
      "       ... \n",
      "886    27.0\n",
      "887    19.0\n",
      "888    58.0\n",
      "889    26.0\n",
      "890    32.0\n",
      "Name: Age, Length: 891, dtype: float64\n"
     ]
    }
   ],
   "source": [
    "import pandas as pd\n",
    "import numpy as np\n",
    "\n",
    "# 1. CSV inlezen en \"NaN\" strings als echte NaN behandelen\n",
    "train = pd.read_csv(\"train.csv\", na_values=[\"NaN\"])\n",
    "\n",
    "# 2. Zorg dat Age numeriek is\n",
    "train[\"Age\"] = pd.to_numeric(train[\"Age\"], errors=\"coerce\")\n",
    "\n",
    "# 3. Bereken gemiddelde en standaarddeviatie van bestaande leeftijden\n",
    "mean_age = train[\"Age\"].mean()\n",
    "std_age = train[\"Age\"].std()\n",
    "\n",
    "# 4. Vul missende leeftijden in met normale verdeling en clamp tussen 0 en 81\n",
    "train[\"Age\"] = train[\"Age\"].apply(\n",
    "    lambda x: int(np.clip(np.random.normal(mean_age, std_age), 0, 81)) if pd.isna(x) else x\n",
    ")\n",
    "\n",
    "# 5. Controle: laat zien of er nog missende waarden zijn\n",
    "print(train.isna().sum())\n",
    "\n",
    "print(train['Age'])"
   ]
  },
  {
   "cell_type": "markdown",
   "id": "d863c364",
   "metadata": {},
   "source": [
    "## 2. Probleemdefinitie\n",
    "\n",
    "- **Input**: passagiersgegevens zoals `Pclass`, `Sex`, `Age`, `SibSp`, `Parch`, `Fare`, `Embarked`, etc.\n",
    "- **Output**: binaire target `Survived` (0 = niet overleefd, 1 = overleefd).\n",
    "- **Metric (Kaggle leaderboard)**: **Accuracy** op de testset (zonder labels).\n"
   ]
  },
  {
   "cell_type": "markdown",
   "id": "1da28555",
   "metadata": {},
   "source": [
    "## 3. Data inladen"
   ]
  },
  {
   "cell_type": "code",
   "execution_count": 193,
   "id": "59855006",
   "metadata": {},
   "outputs": [
    {
     "name": "stdout",
     "output_type": "stream",
     "text": [
      "(891, 12) (418, 11)\n"
     ]
    },
    {
     "data": {
      "text/html": [
       "<div>\n",
       "<style scoped>\n",
       "    .dataframe tbody tr th:only-of-type {\n",
       "        vertical-align: middle;\n",
       "    }\n",
       "\n",
       "    .dataframe tbody tr th {\n",
       "        vertical-align: top;\n",
       "    }\n",
       "\n",
       "    .dataframe thead th {\n",
       "        text-align: right;\n",
       "    }\n",
       "</style>\n",
       "<table border=\"1\" class=\"dataframe\">\n",
       "  <thead>\n",
       "    <tr style=\"text-align: right;\">\n",
       "      <th></th>\n",
       "      <th>PassengerId</th>\n",
       "      <th>Survived</th>\n",
       "      <th>Pclass</th>\n",
       "      <th>Name</th>\n",
       "      <th>Sex</th>\n",
       "      <th>Age</th>\n",
       "      <th>SibSp</th>\n",
       "      <th>Parch</th>\n",
       "      <th>Ticket</th>\n",
       "      <th>Fare</th>\n",
       "      <th>Cabin</th>\n",
       "      <th>Embarked</th>\n",
       "      <th>Embarked_int</th>\n",
       "      <th>Sex_int</th>\n",
       "      <th>Pclass_0</th>\n",
       "    </tr>\n",
       "  </thead>\n",
       "  <tbody>\n",
       "    <tr>\n",
       "      <th>0</th>\n",
       "      <td>1</td>\n",
       "      <td>0</td>\n",
       "      <td>3</td>\n",
       "      <td>Braund, Mr. Owen Harris</td>\n",
       "      <td>male</td>\n",
       "      <td>22.0</td>\n",
       "      <td>1</td>\n",
       "      <td>0</td>\n",
       "      <td>A/5 21171</td>\n",
       "      <td>7.2500</td>\n",
       "      <td>NaN</td>\n",
       "      <td>S</td>\n",
       "      <td>0</td>\n",
       "      <td>0</td>\n",
       "      <td>2</td>\n",
       "    </tr>\n",
       "    <tr>\n",
       "      <th>1</th>\n",
       "      <td>2</td>\n",
       "      <td>1</td>\n",
       "      <td>1</td>\n",
       "      <td>Cumings, Mrs. John Bradley (Florence Briggs Th...</td>\n",
       "      <td>female</td>\n",
       "      <td>38.0</td>\n",
       "      <td>1</td>\n",
       "      <td>0</td>\n",
       "      <td>PC 17599</td>\n",
       "      <td>71.2833</td>\n",
       "      <td>C85</td>\n",
       "      <td>C</td>\n",
       "      <td>1</td>\n",
       "      <td>1</td>\n",
       "      <td>0</td>\n",
       "    </tr>\n",
       "    <tr>\n",
       "      <th>2</th>\n",
       "      <td>3</td>\n",
       "      <td>1</td>\n",
       "      <td>3</td>\n",
       "      <td>Heikkinen, Miss. Laina</td>\n",
       "      <td>female</td>\n",
       "      <td>26.0</td>\n",
       "      <td>0</td>\n",
       "      <td>0</td>\n",
       "      <td>STON/O2. 3101282</td>\n",
       "      <td>7.9250</td>\n",
       "      <td>NaN</td>\n",
       "      <td>S</td>\n",
       "      <td>0</td>\n",
       "      <td>1</td>\n",
       "      <td>2</td>\n",
       "    </tr>\n",
       "    <tr>\n",
       "      <th>3</th>\n",
       "      <td>4</td>\n",
       "      <td>1</td>\n",
       "      <td>1</td>\n",
       "      <td>Futrelle, Mrs. Jacques Heath (Lily May Peel)</td>\n",
       "      <td>female</td>\n",
       "      <td>35.0</td>\n",
       "      <td>1</td>\n",
       "      <td>0</td>\n",
       "      <td>113803</td>\n",
       "      <td>53.1000</td>\n",
       "      <td>C123</td>\n",
       "      <td>S</td>\n",
       "      <td>0</td>\n",
       "      <td>1</td>\n",
       "      <td>0</td>\n",
       "    </tr>\n",
       "    <tr>\n",
       "      <th>4</th>\n",
       "      <td>5</td>\n",
       "      <td>0</td>\n",
       "      <td>3</td>\n",
       "      <td>Allen, Mr. William Henry</td>\n",
       "      <td>male</td>\n",
       "      <td>35.0</td>\n",
       "      <td>0</td>\n",
       "      <td>0</td>\n",
       "      <td>373450</td>\n",
       "      <td>8.0500</td>\n",
       "      <td>NaN</td>\n",
       "      <td>S</td>\n",
       "      <td>0</td>\n",
       "      <td>0</td>\n",
       "      <td>2</td>\n",
       "    </tr>\n",
       "  </tbody>\n",
       "</table>\n",
       "</div>"
      ],
      "text/plain": [
       "   PassengerId  Survived  Pclass  \\\n",
       "0            1         0       3   \n",
       "1            2         1       1   \n",
       "2            3         1       3   \n",
       "3            4         1       1   \n",
       "4            5         0       3   \n",
       "\n",
       "                                                Name     Sex   Age  SibSp  \\\n",
       "0                            Braund, Mr. Owen Harris    male  22.0      1   \n",
       "1  Cumings, Mrs. John Bradley (Florence Briggs Th...  female  38.0      1   \n",
       "2                             Heikkinen, Miss. Laina  female  26.0      0   \n",
       "3       Futrelle, Mrs. Jacques Heath (Lily May Peel)  female  35.0      1   \n",
       "4                           Allen, Mr. William Henry    male  35.0      0   \n",
       "\n",
       "   Parch            Ticket     Fare Cabin Embarked  Embarked_int  Sex_int  \\\n",
       "0      0         A/5 21171   7.2500   NaN        S             0        0   \n",
       "1      0          PC 17599  71.2833   C85        C             1        1   \n",
       "2      0  STON/O2. 3101282   7.9250   NaN        S             0        1   \n",
       "3      0            113803  53.1000  C123        S             0        1   \n",
       "4      0            373450   8.0500   NaN        S             0        0   \n",
       "\n",
       "   Pclass_0  \n",
       "0         2  \n",
       "1         0  \n",
       "2         2  \n",
       "3         0  \n",
       "4         2  "
      ]
     },
     "execution_count": 193,
     "metadata": {},
     "output_type": "execute_result"
    }
   ],
   "source": [
    "# Je gaat werken met de train data. In de test data staan de Survived kolom niet ingevuld. Deze moet je dus zelf voorspellen.\n",
    "\n",
    "train = pd.read_csv(\"train.csv\")\n",
    "test = pd.read_csv(\"test.csv\")\n",
    "\n",
    "train.describe()\n",
    "\n",
    "print(train.shape, test.shape)\n",
    "train.head()\n",
    "\n",
    "# hoeveel letters zinn er in embarked\n",
    "#invullen...\n",
    "\n",
    "# maak een dictionaries van Sex en Embarked\n",
    "dict_Embarked = {'S':0, 'C':1, 'Q':2} \n",
    "dict_Sex = {\"male\": 0, \"female\": 1}\n",
    "dict_Pclass = {1:0, 2:1, 3:2}\n",
    "\n",
    "# drop missing values of column 'Embarked'\n",
    "train = train.dropna(subset=['Embarked'])\n",
    "\n",
    "# maak nieuwe kolommen voor sex en Embarked\n",
    "train['Embarked_int'] = train['Embarked'].map(dict_Embarked)\n",
    "train[\"Sex_int\"] = train[\"Sex\"].map(dict_Sex)\n",
    "train['Pclass_0'] = train['Pclass'].map(dict_Pclass)\n",
    "\n",
    "# print de dataset (nieuwe kolommen met integers komen erbij )\n",
    "train.head()\n",
    "\n",
    "# np.where(train.Embarked == 'S', train['Embarked_int']=1, train['Embarked_int']=0)"
   ]
  },
  {
   "cell_type": "markdown",
   "id": "dfecfbe5",
   "metadata": {},
   "source": [
    "## 4. Snelle datacheck & Preprocessing\n",
    "\n",
    "Waar missen we (rijen met) data? Je kan missende data invullen door bijvoorbeeld voor bepaalde soort data op een bepaalde manier in te vullen:\n",
    "\n",
    "- Numeriek: imputatie (median) + scaling\n",
    "- Categorisch: imputatie (most_frequent) + one-hot encoding"
   ]
  },
  {
   "cell_type": "code",
   "execution_count": 139,
   "id": "0b2295e8",
   "metadata": {},
   "outputs": [
    {
     "name": "stdout",
     "output_type": "stream",
     "text": [
      "PassengerId       0\n",
      "Survived          0\n",
      "Pclass            0\n",
      "Name              0\n",
      "Sex               0\n",
      "Age             177\n",
      "SibSp             0\n",
      "Parch             0\n",
      "Ticket            0\n",
      "Fare              0\n",
      "Cabin           687\n",
      "Embarked          0\n",
      "Embarked_int      0\n",
      "Sex_int           0\n",
      "dtype: int64\n"
     ]
    }
   ],
   "source": [
    "#display(train.sample(5, random_state=42))\n",
    "#display(train.describe(include='all'))\n",
    "#train.isna().mean().sort_values(ascending=False)[:10]\n",
    "\n",
    "train = train.dropna(subset=['Embarked'])\n",
    "print(train.isna().sum())"
   ]
  },
  {
   "cell_type": "markdown",
   "id": "92d6351f",
   "metadata": {},
   "source": [
    "## 5. Verkennende Data Analyse (EDA)\n",
    "\n",
    "> Tip: Voeg hier extra grafieken toe (bijv. histogrammen, boxplots, countplots per feature).\n"
   ]
  },
  {
   "cell_type": "code",
   "execution_count": 151,
   "id": "60c76de3",
   "metadata": {},
   "outputs": [],
   "source": [
    "def make_survivle_table(col, bins):\n",
    "    bins = pd.cut(train[col], bins=bins, right=False)\n",
    "    counts = bins.value_counts().sort_index()\n",
    "    probs  = train.groupby(bins)['Survived'].mean().reindex(counts.index)\n",
    "    probs = probs.fillna(0.4)\n",
    "\n",
    "    temp_df = pd.DataFrame({\n",
    "      'bin': counts.index,\n",
    "      'prob': probs.values,\n",
    "      'count': counts.values\n",
    "    }, index=[col]*len(counts))\n",
    "\n",
    "    return temp_df"
   ]
  },
  {
   "cell_type": "code",
   "execution_count": 196,
   "id": "47ac58e1",
   "metadata": {},
   "outputs": [
    {
     "name": "stderr",
     "output_type": "stream",
     "text": [
      "C:\\Users\\guush\\AppData\\Local\\Temp\\ipykernel_16096\\2349644298.py:4: FutureWarning: The default of observed=False is deprecated and will be changed to True in a future version of pandas. Pass observed=False to retain current behavior or observed=True to adopt the future default and silence this warning.\n",
      "  probs  = train.groupby(bins)['Survived'].mean().reindex(counts.index)\n",
      "C:\\Users\\guush\\AppData\\Local\\Temp\\ipykernel_16096\\2349644298.py:4: FutureWarning: The default of observed=False is deprecated and will be changed to True in a future version of pandas. Pass observed=False to retain current behavior or observed=True to adopt the future default and silence this warning.\n",
      "  probs  = train.groupby(bins)['Survived'].mean().reindex(counts.index)\n",
      "C:\\Users\\guush\\AppData\\Local\\Temp\\ipykernel_16096\\2349644298.py:4: FutureWarning: The default of observed=False is deprecated and will be changed to True in a future version of pandas. Pass observed=False to retain current behavior or observed=True to adopt the future default and silence this warning.\n",
      "  probs  = train.groupby(bins)['Survived'].mean().reindex(counts.index)\n",
      "C:\\Users\\guush\\AppData\\Local\\Temp\\ipykernel_16096\\2349644298.py:4: FutureWarning: The default of observed=False is deprecated and will be changed to True in a future version of pandas. Pass observed=False to retain current behavior or observed=True to adopt the future default and silence this warning.\n",
      "  probs  = train.groupby(bins)['Survived'].mean().reindex(counts.index)\n",
      "C:\\Users\\guush\\AppData\\Local\\Temp\\ipykernel_16096\\2349644298.py:4: FutureWarning: The default of observed=False is deprecated and will be changed to True in a future version of pandas. Pass observed=False to retain current behavior or observed=True to adopt the future default and silence this warning.\n",
      "  probs  = train.groupby(bins)['Survived'].mean().reindex(counts.index)\n",
      "C:\\Users\\guush\\AppData\\Local\\Temp\\ipykernel_16096\\2349644298.py:4: FutureWarning: The default of observed=False is deprecated and will be changed to True in a future version of pandas. Pass observed=False to retain current behavior or observed=True to adopt the future default and silence this warning.\n",
      "  probs  = train.groupby(bins)['Survived'].mean().reindex(counts.index)\n",
      "C:\\Users\\guush\\AppData\\Local\\Temp\\ipykernel_16096\\2349644298.py:4: FutureWarning: The default of observed=False is deprecated and will be changed to True in a future version of pandas. Pass observed=False to retain current behavior or observed=True to adopt the future default and silence this warning.\n",
      "  probs  = train.groupby(bins)['Survived'].mean().reindex(counts.index)\n"
     ]
    },
    {
     "name": "stdout",
     "output_type": "stream",
     "text": [
      "             bin      prob count\n",
      "Pclass_0  [0, 1)  0.626168   214\n",
      "Pclass_0  [1, 2)  0.472826   184\n",
      "Pclass_0  [2, 3)  0.242363   491\n"
     ]
    },
    {
     "name": "stderr",
     "output_type": "stream",
     "text": [
      "C:\\Users\\guush\\AppData\\Local\\Temp\\ipykernel_16096\\714260856.py:10: FutureWarning: The behavior of DataFrame concatenation with empty or all-NA entries is deprecated. In a future version, this will no longer exclude empty or all-NA columns when determining the result dtypes. To retain the old behavior, exclude the relevant entries before the concat operation.\n",
      "  Survival_rates_lookup = pd.concat([Survival_rates_lookup,\n"
     ]
    }
   ],
   "source": [
    "Survival_rates_lookup = pd.DataFrame(columns=['bin','prob','count'])\n",
    "Age_bins_n = make_survivle_table('Age', range(0, 86, 5))\n",
    "Fare_bins_n = make_survivle_table('Fare', range(0, int(train['Fare'].max()) + 5, 5))\n",
    "Sex_bins_n = make_survivle_table('Sex_int', range(0, 3, 1))\n",
    "SibSp_bins_n = make_survivle_table('SibSp', range(0, 7, 1))\n",
    "Parch_bins_n = make_survivle_table('Parch', range(0, 8, 1))\n",
    "Embarked_bins_n = make_survivle_table('Embarked_int', range(0, 4, 1))\n",
    "Pclass_bins_n = make_survivle_table('Pclass_0', range(0, 4, 1))\n",
    "\n",
    "Survival_rates_lookup = pd.concat([Survival_rates_lookup,\n",
    "                                    Age_bins_n, \n",
    "                                    Fare_bins_n,\n",
    "                                    Sex_bins_n,\n",
    "                                    SibSp_bins_n,\n",
    "                                    Parch_bins_n,\n",
    "                                    Embarked_bins_n,\n",
    "                                    Pclass_bins_n])\n",
    "\n",
    "print(Survival_rates_lookup[Survival_rates_lookup.index == 'Pclass_0'])\n"
   ]
  },
  {
   "cell_type": "code",
   "execution_count": 185,
   "id": "96996bde",
   "metadata": {},
   "outputs": [
    {
     "name": "stderr",
     "output_type": "stream",
     "text": [
      "C:\\Users\\guush\\AppData\\Local\\Temp\\ipykernel_16096\\1758682035.py:13: FutureWarning: The default of observed=False is deprecated and will be changed to True in a future version of pandas. Pass observed=False to retain current behavior or observed=True to adopt the future default and silence this warning.\n",
      "  survival_by_bin = df.groupby(\"AgeBin\")[\"SurvivalChance\"].mean()\n"
     ]
    },
    {
     "data": {
      "image/png": "[encoded data removed]",
      "text/plain": [
       "<Figure size 1000x500 with 1 Axes>"
      ]
     },
     "metadata": {},
     "output_type": "display_data"
    }
   ],
   "source": [
    "import matplotlib.pyplot as plt\n",
    "\n",
    "# Convert Series to DataFrame\n",
    "df = FS_n[1].reset_index()\n",
    "df.columns = [\"Age\", \"SurvivalChance\"]\n",
    "\n",
    "# Choose bin size (e.g., 10 years)\n",
    "bin_size = 1\n",
    "bins = range(0, int(df[\"Age\"].max()) + bin_size, bin_size)\n",
    "\n",
    "# Cut ages into bins and compute mean survival chance\n",
    "df[\"AgeBin\"] = pd.cut(df[\"Age\"], bins=bins, right=False)\n",
    "survival_by_bin = df.groupby(\"AgeBin\")[\"SurvivalChance\"].mean()\n",
    "\n",
    "# Plot histogram (bar chart of averages per bin)\n",
    "plt.figure(figsize=(10,5))\n",
    "survival_by_bin.plot(kind=\"bar\", width=0.8)\n",
    "plt.xlabel(\"Age Group\")\n",
    "plt.ylabel(\"Average Survival Chance\")\n",
    "plt.title(f\"Average Survival Chance per {bin_size}-Year Age Bin\")\n",
    "plt.show()\n"
   ]
  },
  {
   "cell_type": "code",
   "execution_count": 61,
   "id": "d582f6cf",
   "metadata": {},
   "outputs": [
    {
     "data": {
      "image/png": "[encoded data removed]",
      "text/plain": [
       "<Figure size 600x400 with 1 Axes>"
      ]
     },
     "metadata": {},
     "output_type": "display_data"
    },
    {
     "data": {
      "image/png": "[encoded data removed]",
      "text/plain": [
       "<Figure size 640x480 with 1 Axes>"
      ]
     },
     "metadata": {},
     "output_type": "display_data"
    }
   ],
   "source": [
    "# Voorbeeld: verdeling leeftijd (met eenvoudige imputatie voor visualisatie)\n",
    "# we verwijderen simpelweg alle rijen waar geen leeftijd bekend is.\n",
    "ages = train['Age'].dropna()\n",
    "plt.figure(figsize=(6,4))\n",
    "plt.hist(ages, bins=30)\n",
    "plt.title('Leeftijdsverdeling (train)')\n",
    "plt.xlabel('Leeftijd'); plt.ylabel('Aantal')\n",
    "plt.show()\n",
    "\n",
    "sns.histplot(ages)\n",
    "plt.title('Leeftijdsverdeling (train)')\n",
    "plt.xlabel('Leeftijd'); plt.ylabel('Aantal')\n",
    "plt.show()"
   ]
  },
  {
   "cell_type": "code",
   "execution_count": null,
   "id": "581be52c",
   "metadata": {},
   "outputs": [],
   "source": [
    "# Oefening: voeg je eigen EDA toe\n",
    "# Gebruik Seaborn in plaats van Matplotlib.\n",
    "# TODO: tel bijvoorbeeld overlevingspercentage per Pclass, Embarked, Fare-quantiles (pd.qcut), etc."
   ]
  },
  {
   "cell_type": "markdown",
   "id": "6c88cc29",
   "metadata": {},
   "source": [
    "## 6. Feature Engineering\n",
    "\n",
    "Voeg hier zelf extra features toe (bijv. `Title` uit `Name`, `FamilySize = SibSp + Parch + 1`, indicatoren, etc.).\n",
    "\n",
    "Zorg wel dat het relevant is voor je eigen onderzoek. Waar ligt je eigen focus."
   ]
  },
  {
   "cell_type": "code",
   "execution_count": 184,
   "id": "e9970331",
   "metadata": {},
   "outputs": [
    {
     "name": "stdout",
     "output_type": "stream",
     "text": [
      "0      2\n",
      "1      2\n",
      "2      1\n",
      "3      2\n",
      "4      1\n",
      "      ..\n",
      "886    1\n",
      "887    1\n",
      "888    4\n",
      "889    1\n",
      "890    1\n",
      "Name: FamilySize, Length: 889, dtype: int64\n"
     ]
    }
   ],
   "source": [
    "# Je kan nu zelf features aanmaken invullen. \n",
    "train['FamilySize'] = train['SibSp'] + train['Parch'] + 1\n",
    "\n",
    "print(train['FamilySize'])\n",
    "FS_n = pd.crosstab(train['FamilySize'], train['Survived'], normalize='index')\n"
   ]
  },
  {
   "cell_type": "markdown",
   "id": "361f4ee4",
   "metadata": {},
   "source": [
    "## 7. Baseline model — np.where invullen"
   ]
  },
  {
   "cell_type": "code",
   "execution_count": null,
   "id": "5350f82d",
   "metadata": {},
   "outputs": [],
   "source": [
    "# === 3. Regelgebaseerde baseline met np.where ===\n",
    "# Regel: vrouwen overleven altijd, jongens (<10 jaar) ook, anders niet\n",
    "train_pred = np.where(\n",
    "    (train['Sex'] == 'female') | ((train['Sex'] == 'male') & (train['Age'] < 10)),\n",
    "    1, 0\n",
    ")"
   ]
  },
  {
   "cell_type": "markdown",
   "id": "83ef075a",
   "metadata": {},
   "source": [
    "## 8. Maak een eindmodel op volledige trainingsdata en voorspel op test\n",
    "\n",
    "Hier kiezen we als voorbeeld het np.where model (of gebruik anders een ander model).\n"
   ]
  },
  {
   "cell_type": "code",
   "execution_count": 87,
   "id": "899c8852",
   "metadata": {},
   "outputs": [
    {
     "name": "stdout",
     "output_type": "stream",
     "text": [
      "submission.csv aangemaakt!\n"
     ]
    },
    {
     "data": {
      "text/html": [
       "<div>\n",
       "<style scoped>\n",
       "    .dataframe tbody tr th:only-of-type {\n",
       "        vertical-align: middle;\n",
       "    }\n",
       "\n",
       "    .dataframe tbody tr th {\n",
       "        vertical-align: top;\n",
       "    }\n",
       "\n",
       "    .dataframe thead th {\n",
       "        text-align: right;\n",
       "    }\n",
       "</style>\n",
       "<table border=\"1\" class=\"dataframe\">\n",
       "  <thead>\n",
       "    <tr style=\"text-align: right;\">\n",
       "      <th></th>\n",
       "      <th>PassengerId</th>\n",
       "      <th>Survived</th>\n",
       "    </tr>\n",
       "  </thead>\n",
       "  <tbody>\n",
       "    <tr>\n",
       "      <th>0</th>\n",
       "      <td>892</td>\n",
       "      <td>0</td>\n",
       "    </tr>\n",
       "    <tr>\n",
       "      <th>1</th>\n",
       "      <td>893</td>\n",
       "      <td>1</td>\n",
       "    </tr>\n",
       "    <tr>\n",
       "      <th>2</th>\n",
       "      <td>894</td>\n",
       "      <td>0</td>\n",
       "    </tr>\n",
       "    <tr>\n",
       "      <th>3</th>\n",
       "      <td>895</td>\n",
       "      <td>0</td>\n",
       "    </tr>\n",
       "    <tr>\n",
       "      <th>4</th>\n",
       "      <td>896</td>\n",
       "      <td>1</td>\n",
       "    </tr>\n",
       "  </tbody>\n",
       "</table>\n",
       "</div>"
      ],
      "text/plain": [
       "   PassengerId  Survived\n",
       "0          892         0\n",
       "1          893         1\n",
       "2          894         0\n",
       "3          895         0\n",
       "4          896         1"
      ]
     },
     "execution_count": 87,
     "metadata": {},
     "output_type": "execute_result"
    }
   ],
   "source": [
    "# === 4. Toepassen op testset ===\n",
    "test_pred = np.where(\n",
    "    (test['Sex'] == 'female') | ((test['Sex'] == 'male') & (test['Age'] < 10)),\n",
    "    1, 0\n",
    ")\n",
    "\n",
    "submission = pd.DataFrame({\n",
    "    'PassengerId': test['PassengerId'],\n",
    "    'Survived': test_pred.astype(int)\n",
    "})\n",
    "\n",
    "submission.to_csv(\"submission.csv\", index=False)\n",
    "print(\"submission.csv aangemaakt!\")\n",
    "submission.head()"
   ]
  },
  {
   "cell_type": "markdown",
   "id": "217004dc",
   "metadata": {},
   "source": [
    "## 9. Checklist & Volgende stappen\n",
    "\n",
    "- [ ] Zorg dat er een duidelijke samenhang is tussen de grafieken -> Feature Engineering -> je uiteindelijke model! Dat is het belangrijkst.\n",
    "- [ ] Laat geen grafieken zien waar je niks mee doet tijdens de presentatie.\n",
    "- [ ] Zorg dat er dus een rode draad is in je verhaal. \n",
    "\n",
    "Voorbeeld: We hebben de focus gelegd op leeftijd -> EDA laat deze grafieken met leeftijd zien. We hebben met Feature Engineering nog leeftijdsgroepen aangemaakt -> We hebben in het model de leeftijden gebruikt. Dit is onze score.\n",
    "\n",
    "- [ ] Eventueel EDA (een klein beetje) uitbreiden (meer grafieken, correlaties, outliers)\n",
    "- [ ] Feature engineering verbeteren (wat is er relevant?)\n",
    "- [ ] Meer modellen proberen (Logistic Regression? Sklearn)\n",
    "- [ ] Submission inleveren op kaggle en kijken hoe goed je score is\n",
    "\n",
    "Succes met de case!"
   ]
  }
 ],
 "metadata": {
  "kernelspec": {
   "display_name": "base",
   "language": "python",
   "name": "python3"
  },
  "language_info": {
   "codemirror_mode": {
    "name": "ipython",
    "version": 3
   },
   "file_extension": ".py",
   "mimetype": "text/x-python",
   "name": "python",
   "nbconvert_exporter": "python",
   "pygments_lexer": "ipython3",
   "version": "3.11.5"
  }
 },
 "nbformat": 4,
 "nbformat_minor": 5
}
