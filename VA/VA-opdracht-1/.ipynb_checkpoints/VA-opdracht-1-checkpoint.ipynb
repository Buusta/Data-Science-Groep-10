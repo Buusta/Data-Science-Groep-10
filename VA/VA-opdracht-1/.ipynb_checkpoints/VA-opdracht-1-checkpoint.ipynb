{
 "cells": [
  {
   "cell_type": "markdown",
   "metadata": {},
   "source": [
    "# VA opdracht 1"
   ]
  },
  {
   "cell_type": "markdown",
   "metadata": {},
   "source": [
    "Guus Hulst en Shamar Praag"
   ]
  },
  {
   "cell_type": "markdown",
   "metadata": {},
   "source": [
    "## Deadline"
   ]
  },
  {
   "cell_type": "markdown",
   "metadata": {},
   "source": [
    "De deadline voor deze opdracht is woensdag vóór 10:00.\n",
    "\n",
    "We maken eerst gebruik van matplotlib. Hier kan je snel makkelijke plots mee maken. Ook gaan we aan het eind  gebruik maken van Seaborn. Dit werkt ietsje anders, maar kan je wel nog mooiere plots mee maken."
   ]
  },
  {
   "cell_type": "markdown",
   "metadata": {},
   "source": [
    "## Deel 1 - Schaatsen"
   ]
  },
  {
   "cell_type": "markdown",
   "metadata": {},
   "source": [
    "We gaan kijken naar de 500m meter tijden van de broers Ronald en Michel Mulder geschaatst in Thialf (bron:osta.nl). De dataset is te vinden op BrightSpace / Teams. Zorg dat deze dataset zich in dezelfde map als deze notebook zit. Ter voorbereiding op een visualisatie nemen we de volgende stappen.\n",
    "* We laden de package `pandas` in en noemen het `pd`.\n",
    "* We gebruiken de functie `head` om de eerste vijf regels uit de dataset te bekijken.\n",
    "* We gebruiken de functie `info` om de structuur van de dataset te bekijken.\n",
    "* We gebruiken de functie `describe` om de statische waarden te bekijken."
   ]
  },
  {
   "cell_type": "code",
   "execution_count": 7,
   "metadata": {},
   "outputs": [],
   "source": [
    "import sys\n",
    "import pandas as pd\n",
    "schaatstijden = pd.read_csv('Schaatstijden500m.csv')\n",
    "schaatstijden['Datum'] = pd.to_datetime(schaatstijden['Datum'], dayfirst=True)"
   ]
  },
  {
   "cell_type": "code",
   "execution_count": 8,
   "metadata": {},
   "outputs": [
    {
     "data": {
      "text/html": [
       "<div>\n",
       "<style scoped>\n",
       "    .dataframe tbody tr th:only-of-type {\n",
       "        vertical-align: middle;\n",
       "    }\n",
       "\n",
       "    .dataframe tbody tr th {\n",
       "        vertical-align: top;\n",
       "    }\n",
       "\n",
       "    .dataframe thead th {\n",
       "        text-align: right;\n",
       "    }\n",
       "</style>\n",
       "<table border=\"1\" class=\"dataframe\">\n",
       "  <thead>\n",
       "    <tr style=\"text-align: right;\">\n",
       "      <th></th>\n",
       "      <th>Tijd</th>\n",
       "      <th>Datum</th>\n",
       "      <th>Ijsbaan</th>\n",
       "      <th>Rijder</th>\n",
       "    </tr>\n",
       "  </thead>\n",
       "  <tbody>\n",
       "    <tr>\n",
       "      <th>0</th>\n",
       "      <td>89.80</td>\n",
       "      <td>2020-01-26</td>\n",
       "      <td>IJsstadion Thialf (NED)</td>\n",
       "      <td>Ronald</td>\n",
       "    </tr>\n",
       "    <tr>\n",
       "      <th>1</th>\n",
       "      <td>34.86</td>\n",
       "      <td>2020-01-25</td>\n",
       "      <td>IJsstadion Thialf (NED)</td>\n",
       "      <td>Ronald</td>\n",
       "    </tr>\n",
       "    <tr>\n",
       "      <th>2</th>\n",
       "      <td>34.92</td>\n",
       "      <td>2020-01-18</td>\n",
       "      <td>IJsstadion Thialf (NED)</td>\n",
       "      <td>Ronald</td>\n",
       "    </tr>\n",
       "    <tr>\n",
       "      <th>3</th>\n",
       "      <td>35.27</td>\n",
       "      <td>2019-12-27</td>\n",
       "      <td>IJsstadion Thialf (NED)</td>\n",
       "      <td>Michel</td>\n",
       "    </tr>\n",
       "    <tr>\n",
       "      <th>4</th>\n",
       "      <td>35.38</td>\n",
       "      <td>2019-12-27</td>\n",
       "      <td>IJsstadion Thialf (NED)</td>\n",
       "      <td>Ronald</td>\n",
       "    </tr>\n",
       "  </tbody>\n",
       "</table>\n",
       "</div>"
      ],
      "text/plain": [
       "    Tijd      Datum                  Ijsbaan  Rijder\n",
       "0  89.80 2020-01-26  IJsstadion Thialf (NED)  Ronald\n",
       "1  34.86 2020-01-25  IJsstadion Thialf (NED)  Ronald\n",
       "2  34.92 2020-01-18  IJsstadion Thialf (NED)  Ronald\n",
       "3  35.27 2019-12-27  IJsstadion Thialf (NED)  Michel\n",
       "4  35.38 2019-12-27  IJsstadion Thialf (NED)  Ronald"
      ]
     },
     "execution_count": 8,
     "metadata": {},
     "output_type": "execute_result"
    }
   ],
   "source": [
    "schaatstijden.head()"
   ]
  },
  {
   "cell_type": "code",
   "execution_count": 9,
   "metadata": {},
   "outputs": [
    {
     "name": "stdout",
     "output_type": "stream",
     "text": [
      "<class 'pandas.core.frame.DataFrame'>\n",
      "RangeIndex: 76 entries, 0 to 75\n",
      "Data columns (total 4 columns):\n",
      " #   Column   Non-Null Count  Dtype         \n",
      "---  ------   --------------  -----         \n",
      " 0   Tijd     76 non-null     float64       \n",
      " 1   Datum    76 non-null     datetime64[ns]\n",
      " 2   Ijsbaan  76 non-null     object        \n",
      " 3   Rijder   76 non-null     object        \n",
      "dtypes: datetime64[ns](1), float64(1), object(2)\n",
      "memory usage: 2.5+ KB\n"
     ]
    }
   ],
   "source": [
    "schaatstijden.info()"
   ]
  },
  {
   "cell_type": "code",
   "execution_count": 10,
   "metadata": {},
   "outputs": [
    {
     "data": {
      "text/html": [
       "<div>\n",
       "<style scoped>\n",
       "    .dataframe tbody tr th:only-of-type {\n",
       "        vertical-align: middle;\n",
       "    }\n",
       "\n",
       "    .dataframe tbody tr th {\n",
       "        vertical-align: top;\n",
       "    }\n",
       "\n",
       "    .dataframe thead th {\n",
       "        text-align: right;\n",
       "    }\n",
       "</style>\n",
       "<table border=\"1\" class=\"dataframe\">\n",
       "  <thead>\n",
       "    <tr style=\"text-align: right;\">\n",
       "      <th></th>\n",
       "      <th>Tijd</th>\n",
       "      <th>Datum</th>\n",
       "    </tr>\n",
       "  </thead>\n",
       "  <tbody>\n",
       "    <tr>\n",
       "      <th>count</th>\n",
       "      <td>76.000000</td>\n",
       "      <td>76</td>\n",
       "    </tr>\n",
       "    <tr>\n",
       "      <th>mean</th>\n",
       "      <td>35.815263</td>\n",
       "      <td>2017-11-05 16:44:12.631578880</td>\n",
       "    </tr>\n",
       "    <tr>\n",
       "      <th>min</th>\n",
       "      <td>34.490000</td>\n",
       "      <td>2015-12-05 00:00:00</td>\n",
       "    </tr>\n",
       "    <tr>\n",
       "      <th>25%</th>\n",
       "      <td>34.917500</td>\n",
       "      <td>2016-09-12 18:00:00</td>\n",
       "    </tr>\n",
       "    <tr>\n",
       "      <th>50%</th>\n",
       "      <td>35.055000</td>\n",
       "      <td>2017-11-10 12:00:00</td>\n",
       "    </tr>\n",
       "    <tr>\n",
       "      <th>75%</th>\n",
       "      <td>35.272500</td>\n",
       "      <td>2019-01-02 12:00:00</td>\n",
       "    </tr>\n",
       "    <tr>\n",
       "      <th>max</th>\n",
       "      <td>89.800000</td>\n",
       "      <td>2020-01-26 00:00:00</td>\n",
       "    </tr>\n",
       "    <tr>\n",
       "      <th>std</th>\n",
       "      <td>6.280937</td>\n",
       "      <td>NaN</td>\n",
       "    </tr>\n",
       "  </tbody>\n",
       "</table>\n",
       "</div>"
      ],
      "text/plain": [
       "            Tijd                          Datum\n",
       "count  76.000000                             76\n",
       "mean   35.815263  2017-11-05 16:44:12.631578880\n",
       "min    34.490000            2015-12-05 00:00:00\n",
       "25%    34.917500            2016-09-12 18:00:00\n",
       "50%    35.055000            2017-11-10 12:00:00\n",
       "75%    35.272500            2019-01-02 12:00:00\n",
       "max    89.800000            2020-01-26 00:00:00\n",
       "std     6.280937                            NaN"
      ]
     },
     "execution_count": 10,
     "metadata": {},
     "output_type": "execute_result"
    }
   ],
   "source": [
    "schaatstijden.describe()"
   ]
  },
  {
   "cell_type": "markdown",
   "metadata": {},
   "source": [
    "## Onderdeel 1"
   ]
  },
  {
   "cell_type": "markdown",
   "metadata": {},
   "source": [
    "Kijk eens goed naar de tabellen hierboven en geef antwoord op de volgende vragen.\n",
    "* Hoeveel 500m tijden zitten er in de dataset?\n",
    "* Wat is de snelste tijd?"
   ]
  },
  {
   "cell_type": "markdown",
   "metadata": {},
   "source": [
    "#### Antwoord:\n",
    "* 76 entries\n",
    "* 34.49"
   ]
  },
  {
   "cell_type": "markdown",
   "metadata": {},
   "source": [
    "## Onderdeel 2"
   ]
  },
  {
   "cell_type": "markdown",
   "metadata": {},
   "source": [
    "Maak een histogram van de kolom `Tijd`. Vul de code aan, voldoe aan de volgende extra eisen en pas verder geen dingen aan.\n",
    "* Kies de juiste kolom.\n",
    "* Maak de histogram geel.\n",
    "* Gebruik een geschikte titel.\n",
    "* Gebruik een geschikt x-as label.\n",
    "* Gebruik een geschikt y-as label."
   ]
  },
  {
   "cell_type": "code",
   "execution_count": 16,
   "metadata": {},
   "outputs": [],
   "source": [
    "import matplotlib.pyplot as plt"
   ]
  },
  {
   "cell_type": "code",
   "execution_count": 17,
   "metadata": {},
   "outputs": [
    {
     "data": {
      "image/png": "[encoded data removed]",
      "text/plain": [
       "<Figure size 640x480 with 1 Axes>"
      ]
     },
     "metadata": {},
     "output_type": "display_data"
    }
   ],
   "source": [
    "plt.hist(schaatstijden[\"Tijd\"], color=\"Yellow\")\n",
    "plt.title(\"Schaatstijden histogram\")\n",
    "plt.xlabel(\"Tijd\")\n",
    "plt.ylabel(\"Hoeveelheid\")\n",
    "plt.show()"
   ]
  },
  {
   "cell_type": "markdown",
   "metadata": {},
   "source": [
    "Wellicht heb je het al gezien. Een van de broers is gevallen tijdens een rit. Dit resulteerde in tijd een stuk langzamer dan normaal. Filter deze tijd uit de dataset en maak de histogram nogmaals."
   ]
  },
  {
   "cell_type": "code",
   "execution_count": 19,
   "metadata": {
    "scrolled": true
   },
   "outputs": [],
   "source": [
    "#Code om te filteren\n",
    "schaatstijden = schaatstijden.drop(0) # niet abstract, sorry"
   ]
  },
  {
   "cell_type": "code",
   "execution_count": 20,
   "metadata": {},
   "outputs": [
    {
     "data": {
      "image/png": "[encoded data removed]",
      "text/plain": [
       "<Figure size 640x480 with 1 Axes>"
      ]
     },
     "metadata": {},
     "output_type": "display_data"
    }
   ],
   "source": [
    "plt.hist(schaatstijden[\"Tijd\"], color=\"Yellow\")\n",
    "plt.show()"
   ]
  },
  {
   "cell_type": "markdown",
   "metadata": {},
   "source": [
    "## Onderdeel 3"
   ]
  },
  {
   "cell_type": "markdown",
   "metadata": {},
   "source": [
    "Voor de volgende analyse gaan we een boxplot maken. (gebruik de dataset zonder val) We willen een uitspraak doen welke broer sneller is op de 500m in Thialf. Maak een boxplot van de tijden van Ronald en een boxplot van de tijden van Michel. Voldoe aan de volgende eisen.\n",
    "* Voeg een lijn blauwe toe met het huidige baan record in thialf, 34,07\n",
    "* Gebruik een geschikte titel.\n",
    "* Gebruik een geschikt x-as label.\n",
    "* Gebruik een geschikt y-as label."
   ]
  },
  {
   "cell_type": "code",
   "execution_count": 23,
   "metadata": {},
   "outputs": [],
   "source": [
    "schaatstijdenBoxplotData = {'Ronald': schaatstijden[schaatstijden['Rijder'] == 'Ronald']['Tijd'],\n",
    "                            'Michel': schaatstijden[schaatstijden['Rijder'] == 'Michel']['Tijd']}"
   ]
  },
  {
   "cell_type": "code",
   "execution_count": 24,
   "metadata": {
    "scrolled": true
   },
   "outputs": [
    {
     "data": {
      "text/plain": [
       "count    35.000000\n",
       "mean     34.935143\n",
       "std       0.191194\n",
       "min      34.490000\n",
       "25%      34.820000\n",
       "50%      34.920000\n",
       "75%      35.035000\n",
       "max      35.380000\n",
       "Name: Tijd, dtype: float64"
      ]
     },
     "execution_count": 24,
     "metadata": {},
     "output_type": "execute_result"
    }
   ],
   "source": [
    "schaatstijdenBoxplotData['Ronald'].describe()"
   ]
  },
  {
   "cell_type": "code",
   "execution_count": 25,
   "metadata": {},
   "outputs": [
    {
     "data": {
      "text/plain": [
       "count    40.000000\n",
       "mean     35.235750\n",
       "std       0.259357\n",
       "min      34.620000\n",
       "25%      35.035000\n",
       "50%      35.230000\n",
       "75%      35.472500\n",
       "max      35.720000\n",
       "Name: Tijd, dtype: float64"
      ]
     },
     "execution_count": 25,
     "metadata": {},
     "output_type": "execute_result"
    }
   ],
   "source": [
    "schaatstijdenBoxplotData['Michel'].describe()"
   ]
  },
  {
   "cell_type": "code",
   "execution_count": 26,
   "metadata": {},
   "outputs": [
    {
     "data": {
      "image/png": "[encoded data removed]",
      "text/plain": [
       "<Figure size 640x480 with 1 Axes>"
      ]
     },
     "metadata": {},
     "output_type": "display_data"
    }
   ],
   "source": [
    "#code voor boxplot\n",
    "\n",
    "fig, ax = plt.subplots()\n",
    "\n",
    "\n",
    "ax.boxplot([schaatstijdenBoxplotData[\"Ronald\"], schaatstijdenBoxplotData[\"Michel\"]])\n",
    "ax.axhline(y=34.07, color=\"blue\", label=\"34.07 s\")\n",
    "\n",
    "# Add x-axis tick labels:\n",
    "ax.set_xticklabels([\"Ronald\", \"Michel\"])\n",
    "\n",
    "# Add a y-axis label\n",
    "ax.set_ylabel(\"Tijd\")\n",
    "ax.set_title(\"Ronald vs Michel\")\n",
    "\n",
    "plt.show()"
   ]
  },
  {
   "cell_type": "markdown",
   "metadata": {},
   "source": [
    "## Onderdeel 4"
   ]
  },
  {
   "cell_type": "markdown",
   "metadata": {},
   "source": [
    "Deze vraag gaat over visualisatie gemaakt bij onderdeel 3. Doe een uitspraak over de welke broer het snelst is. Gebruik een maat voor locatie (waar is het gemiddelde?) en voor spreiding (liggen de verschillende tijden ver uit elkaar of dicht bij elkaar?) in je antwoord."
   ]
  },
  {
   "cell_type": "markdown",
   "metadata": {},
   "source": [
    "#### Antwoord\n",
    "\n",
    "het gemddelde is de gele lijn, die is bij Ronald lager dan bij Michel, Ronald is dus sneller."
   ]
  },
  {
   "cell_type": "markdown",
   "metadata": {},
   "source": [
    "## Onderdeel 5"
   ]
  },
  {
   "cell_type": "markdown",
   "metadata": {},
   "source": [
    "De broers hebben tijdens een aantal wedstrijden tegen elkaar gereden (niet uitsluitend in dezelfde rit). Ook deze data staat op BrightSpace, we laden de data in en berekenen het verschil van het onderlinge resultaat."
   ]
  },
  {
   "cell_type": "code",
   "execution_count": 32,
   "metadata": {},
   "outputs": [],
   "source": [
    "schaatstijdenVerschil = pd.read_csv('Schaatstijden500m verschil.csv')\n",
    "schaatstijdenVerschil['Datum'] = pd.to_datetime(schaatstijdenVerschil['Datum'], dayfirst=True)"
   ]
  },
  {
   "cell_type": "code",
   "execution_count": 33,
   "metadata": {},
   "outputs": [],
   "source": [
    "schaatstijdenVerschil['Verschil'] = schaatstijdenVerschil['Ronald'] - schaatstijdenVerschil['Michel']"
   ]
  },
  {
   "cell_type": "code",
   "execution_count": 34,
   "metadata": {},
   "outputs": [
    {
     "data": {
      "text/html": [
       "<div>\n",
       "<style scoped>\n",
       "    .dataframe tbody tr th:only-of-type {\n",
       "        vertical-align: middle;\n",
       "    }\n",
       "\n",
       "    .dataframe tbody tr th {\n",
       "        vertical-align: top;\n",
       "    }\n",
       "\n",
       "    .dataframe thead th {\n",
       "        text-align: right;\n",
       "    }\n",
       "</style>\n",
       "<table border=\"1\" class=\"dataframe\">\n",
       "  <thead>\n",
       "    <tr style=\"text-align: right;\">\n",
       "      <th></th>\n",
       "      <th>Datum</th>\n",
       "      <th>Ijsbaan</th>\n",
       "      <th>Michel</th>\n",
       "      <th>Ronald</th>\n",
       "      <th>Verschil</th>\n",
       "    </tr>\n",
       "  </thead>\n",
       "  <tbody>\n",
       "    <tr>\n",
       "      <th>0</th>\n",
       "      <td>2017-12-27</td>\n",
       "      <td>IJsstadion Thialf (NED)</td>\n",
       "      <td>34.98</td>\n",
       "      <td>34.49</td>\n",
       "      <td>-0.49</td>\n",
       "    </tr>\n",
       "    <tr>\n",
       "      <th>1</th>\n",
       "      <td>2018-12-28</td>\n",
       "      <td>IJsstadion Thialf (NED)</td>\n",
       "      <td>35.04</td>\n",
       "      <td>34.60</td>\n",
       "      <td>-0.44</td>\n",
       "    </tr>\n",
       "    <tr>\n",
       "      <th>2</th>\n",
       "      <td>2018-03-10</td>\n",
       "      <td>IJsstadion Thialf (NED)</td>\n",
       "      <td>35.72</td>\n",
       "      <td>34.67</td>\n",
       "      <td>-1.05</td>\n",
       "    </tr>\n",
       "    <tr>\n",
       "      <th>3</th>\n",
       "      <td>2017-10-28</td>\n",
       "      <td>IJsstadion Thialf (NED)</td>\n",
       "      <td>35.58</td>\n",
       "      <td>34.69</td>\n",
       "      <td>-0.89</td>\n",
       "    </tr>\n",
       "    <tr>\n",
       "      <th>4</th>\n",
       "      <td>2017-12-22</td>\n",
       "      <td>IJsstadion Thialf (NED)</td>\n",
       "      <td>34.90</td>\n",
       "      <td>34.74</td>\n",
       "      <td>-0.16</td>\n",
       "    </tr>\n",
       "  </tbody>\n",
       "</table>\n",
       "</div>"
      ],
      "text/plain": [
       "       Datum                  Ijsbaan  Michel  Ronald  Verschil\n",
       "0 2017-12-27  IJsstadion Thialf (NED)   34.98   34.49     -0.49\n",
       "1 2018-12-28  IJsstadion Thialf (NED)   35.04   34.60     -0.44\n",
       "2 2018-03-10  IJsstadion Thialf (NED)   35.72   34.67     -1.05\n",
       "3 2017-10-28  IJsstadion Thialf (NED)   35.58   34.69     -0.89\n",
       "4 2017-12-22  IJsstadion Thialf (NED)   34.90   34.74     -0.16"
      ]
     },
     "execution_count": 34,
     "metadata": {},
     "output_type": "execute_result"
    }
   ],
   "source": [
    "schaatstijdenVerschil.head()"
   ]
  },
  {
   "cell_type": "markdown",
   "metadata": {},
   "source": [
    "Maakt een histogram van het verschil tussen de broers."
   ]
  },
  {
   "cell_type": "code",
   "execution_count": 36,
   "metadata": {},
   "outputs": [
    {
     "data": {
      "text/plain": [
       "count    26.000000\n",
       "mean     -0.298846\n",
       "std       0.291909\n",
       "min      -1.050000\n",
       "25%      -0.447500\n",
       "50%      -0.230000\n",
       "75%      -0.145000\n",
       "max       0.190000\n",
       "Name: Verschil, dtype: float64"
      ]
     },
     "execution_count": 36,
     "metadata": {},
     "output_type": "execute_result"
    },
    {
     "data": {
      "image/png": "[encoded data removed]",
      "text/plain": [
       "<Figure size 640x480 with 1 Axes>"
      ]
     },
     "metadata": {},
     "output_type": "display_data"
    }
   ],
   "source": [
    "plt.hist(schaatstijdenVerschil[\"Verschil\"])\n",
    "plt.xlabel(\"Tijdsverschillen\")\n",
    "plt.ylabel(\"Count\")\n",
    "plt.title(\"Tijdsverschil Ronald, Michel\")\n",
    "schaatstijdenVerschil[\"Verschil\"].describe()"
   ]
  },
  {
   "cell_type": "markdown",
   "metadata": {},
   "source": [
    "## Onderdeel 6"
   ]
  },
  {
   "cell_type": "markdown",
   "metadata": {},
   "source": [
    "Deze vraag gaat over visualisatie gemaakt bij onderdeel 5. Doe een uitspraak over de welke broer het snelst is. Gebruik een maat voor locatie en voor spreiding in je antwoord."
   ]
  },
  {
   "cell_type": "markdown",
   "metadata": {},
   "source": [
    "#### Antwoord\n",
    "We zeggen het verschil = tijd Ronald - tijd Michel en het gemiddelde verschil is negatief dus, Ronald is sneller.\n",
    "Het gemiddelde verschil is -0.299s.\n",
    "Het maximale verschil is 0.19, dus toen was Michel sneller, het minimale verschil is -1.05.\n",
    "De standaard deviatie is 0.291"
   ]
  },
  {
   "cell_type": "markdown",
   "metadata": {},
   "source": [
    "## Onderdeel 7"
   ]
  },
  {
   "cell_type": "markdown",
   "metadata": {},
   "source": [
    "Dit is een iets moeilijkere vraag, voor als de voorgaande opdrachten redelijk makkelijk waren. Deze meer geavanceerde visualisatie gaat over het verloop van de tijden over de jaren. Maak een dataframe van schaatstijdenVerschil met de gemiddelde 500m tijd per broer per jaar (mocht je over de skills beschikken, dan mag het ook per schaatsseizoen september t/m maart)."
   ]
  },
  {
   "cell_type": "code",
   "execution_count": 42,
   "metadata": {},
   "outputs": [
    {
     "data": {
      "image/png": "[encoded data removed]",
      "text/plain": [
       "<Figure size 640x480 with 1 Axes>"
      ]
     },
     "metadata": {},
     "output_type": "display_data"
    }
   ],
   "source": [
    "import numpy as np\n",
    "\n",
    "#code om gemiddelde per jaar te berekenen\n",
    "schaatstijdenVerschil[\"Datum\"].describe()\n",
    "\n",
    "min_jaar = schaatstijdenVerschil[\"Datum\"].dt.year.min()\n",
    "max_jaar = schaatstijdenVerschil[\"Datum\"].dt.year.max()\n",
    "\n",
    "Ronald = np.array([])\n",
    "for i in range(min_jaar, max_jaar):\n",
    "    avg = schaatstijdenVerschil.loc[schaatstijdenVerschil[\"Datum\"].dt.year == i, \"Ronald\"].mean()\n",
    "    Ronald = np.append(Ronald, avg)\n",
    "\n",
    "Michel = np.array([])\n",
    "for i in range(min_jaar, max_jaar):\n",
    "    avg = schaatstijdenVerschil.loc[schaatstijdenVerschil[\"Datum\"].dt.year == i, \"Michel\"].mean()\n",
    "    Michel = np.append(Michel, avg)\n",
    "\n",
    "plt.plot(range(min_jaar, max_jaar), Ronald, label='Ronald')\n",
    "plt.plot(range(min_jaar, max_jaar), Michel, label='Michel')\n",
    "\n",
    "plt.ylabel('Gemiddelde tijd per jaar')\n",
    "plt.xlabel('Jaar')\n",
    "plt.xticks([2015.0, 2016.0, 2017.0, 2018.0], [2015, 2016, 2017, 2018])\n",
    "plt.title('Gemiddelde tijd per jaar Ronald en Michel')\n",
    "plt.legend()\n",
    "\n",
    "plt.show()\n",
    "\n",
    "gemPerJaarPerBroer = pd.DataFrame()\n",
    "gemPerJaarPerBroer['Ronald'] = Ronald\n",
    "gemPerJaarPerBroer['Michel'] = Michel\n",
    "gemPerJaarPerBroer['Jaar'] = range(min_jaar, max_jaar)"
   ]
  },
  {
   "cell_type": "code",
   "execution_count": 43,
   "metadata": {},
   "outputs": [
    {
     "data": {
      "text/html": [
       "<div>\n",
       "<style scoped>\n",
       "    .dataframe tbody tr th:only-of-type {\n",
       "        vertical-align: middle;\n",
       "    }\n",
       "\n",
       "    .dataframe tbody tr th {\n",
       "        vertical-align: top;\n",
       "    }\n",
       "\n",
       "    .dataframe thead th {\n",
       "        text-align: right;\n",
       "    }\n",
       "</style>\n",
       "<table border=\"1\" class=\"dataframe\">\n",
       "  <thead>\n",
       "    <tr style=\"text-align: right;\">\n",
       "      <th></th>\n",
       "      <th>Ronald</th>\n",
       "      <th>Michel</th>\n",
       "      <th>Jaar</th>\n",
       "    </tr>\n",
       "  </thead>\n",
       "  <tbody>\n",
       "    <tr>\n",
       "      <th>0</th>\n",
       "      <td>35.120000</td>\n",
       "      <td>35.500000</td>\n",
       "      <td>2015</td>\n",
       "    </tr>\n",
       "    <tr>\n",
       "      <th>1</th>\n",
       "      <td>34.916667</td>\n",
       "      <td>35.211667</td>\n",
       "      <td>2016</td>\n",
       "    </tr>\n",
       "    <tr>\n",
       "      <th>2</th>\n",
       "      <td>34.826667</td>\n",
       "      <td>35.271667</td>\n",
       "      <td>2017</td>\n",
       "    </tr>\n",
       "    <tr>\n",
       "      <th>3</th>\n",
       "      <td>34.916000</td>\n",
       "      <td>35.224000</td>\n",
       "      <td>2018</td>\n",
       "    </tr>\n",
       "  </tbody>\n",
       "</table>\n",
       "</div>"
      ],
      "text/plain": [
       "      Ronald     Michel  Jaar\n",
       "0  35.120000  35.500000  2015\n",
       "1  34.916667  35.211667  2016\n",
       "2  34.826667  35.271667  2017\n",
       "3  34.916000  35.224000  2018"
      ]
     },
     "execution_count": 43,
     "metadata": {},
     "output_type": "execute_result"
    }
   ],
   "source": [
    "gemPerJaarPerBroer.head()"
   ]
  },
  {
   "cell_type": "markdown",
   "metadata": {},
   "source": [
    "Maak een lijndiagram met op de x-as het jaar en op de y-as de gemiddelde tijd per jaar. Geef een lijn per broer weer. Geef de visualisatie geschikte titels en een legenda."
   ]
  },
  {
   "cell_type": "markdown",
   "metadata": {},
   "source": [
    "# Deel 2 - Seaborn package"
   ]
  },
  {
   "cell_type": "markdown",
   "metadata": {},
   "source": [
    "### Voorbeeld"
   ]
  },
  {
   "cell_type": "markdown",
   "metadata": {},
   "source": [
    "We gaan voor de laatste twee onderdelen gebruik maken van een andere package: Seaborn. Hier kan je redelijk makkelijk mooie plots maken. Het werkt wel net wat anders qua input en output. In de volgende twee onderdelen lopen we hier met je doorheen, zodat je volgende week bij de case visualisaties kan maken met Seaborn.\n",
    "\n",
    "Mocht je bij het importeren een foutmelding krijgen, dan heb je waarschijnlijk nog niet de package geinstalleerd. Dit kan je doen door het hekje voor de eerste stukjes code weg te halen."
   ]
  },
  {
   "cell_type": "code",
   "execution_count": 48,
   "metadata": {},
   "outputs": [],
   "source": [
    "#!conda install --yes --prefix {sys.prefix} numpy\n",
    "#!conda install seaborn\n",
    "import seaborn as sns"
   ]
  },
  {
   "cell_type": "markdown",
   "metadata": {},
   "source": [
    "We gaan nu een histogram maken met een simpel voorbeeld (waarbij we andere data inladen). Een histogram maak je als volgt. Zie ook de voorbeelden: https://seaborn.pydata.org/generated/seaborn.histplot.html"
   ]
  },
  {
   "cell_type": "code",
   "execution_count": 50,
   "metadata": {},
   "outputs": [
    {
     "data": {
      "image/png": "[encoded data removed]",
      "text/plain": [
       "<Figure size 640x480 with 1 Axes>"
      ]
     },
     "metadata": {},
     "output_type": "display_data"
    }
   ],
   "source": [
    "penguins = sns.load_dataset(\"penguins\")\n",
    "sns.histplot(data=penguins, x=\"flipper_length_mm\")\n",
    "plt.show()"
   ]
  },
  {
   "cell_type": "markdown",
   "metadata": {},
   "source": [
    "## Onderdeel 8\n",
    "Zorg nu dat je een histogram maakt voor de schaatstijden! waarbij op de x-as de tijden staan."
   ]
  },
  {
   "cell_type": "code",
   "execution_count": 52,
   "metadata": {},
   "outputs": [
    {
     "data": {
      "image/png": "[encoded data removed]",
      "text/plain": [
       "<Figure size 640x480 with 1 Axes>"
      ]
     },
     "metadata": {},
     "output_type": "display_data"
    }
   ],
   "source": [
    "alle_tijden = pd.concat([schaatstijdenVerschil[\"Ronald\"], schaatstijdenVerschil[\"Michel\"]])\n",
    "sns.histplot(alle_tijden)\n",
    "plt.xlabel(\"Tijden\")\n",
    "plt.show()"
   ]
  },
  {
   "cell_type": "markdown",
   "metadata": {},
   "source": [
    "Maak een histogram waarbij je voor de verschillende schaatsers (Ronald, Michel) een andere kleur geeft. "
   ]
  },
  {
   "cell_type": "code",
   "execution_count": 54,
   "metadata": {},
   "outputs": [
    {
     "data": {
      "image/png": "[encoded data removed]",
      "text/plain": [
       "<Figure size 640x480 with 1 Axes>"
      ]
     },
     "metadata": {},
     "output_type": "display_data"
    },
    {
     "data": {
      "image/png": "[encoded data removed]",
      "text/plain": [
       "<Figure size 640x480 with 1 Axes>"
      ]
     },
     "metadata": {},
     "output_type": "display_data"
    }
   ],
   "source": [
    "sns.histplot(data=gemPerJaarPerBroer, x = Ronald)\n",
    "sns.histplot(data=gemPerJaarPerBroer, x = Michel)\n",
    "plt.title(\"gemPerJaarPerBroer\")\n",
    "plt.show()\n",
    "plt.clf()\n",
    "\n",
    "sns.histplot(data=schaatstijdenVerschil, x=\"Ronald\")\n",
    "sns.histplot(data=schaatstijdenVerschil, x=\"Michel\")\n",
    "plt.title(\"schaatstijdenVerschil\")\n",
    "plt.show()\n",
    "\n",
    "# Ik begreep niet of ik het voor gem per jaar of de algemene tijden moest doen"
   ]
  },
  {
   "cell_type": "markdown",
   "metadata": {},
   "source": [
    "## Onderdeel 9"
   ]
  },
  {
   "cell_type": "markdown",
   "metadata": {},
   "source": [
    "Met de vraag uit **onderdeel 7** gaan we ook kijken wat we nog meer kunnen zeggen over de huidige data. \n",
    "* Hoe vaak van alle keren was Ronald/Michel sneller?\n",
    "* Hoeveel procent van de keren was dit?\n",
    "* Maak een top 20 van snelste tijden van de langzamere broer en maak een top 20 van langzaamste tijden van de snellere broer.\n",
    "* Hoe vaak had de langzame broer kunnen winnen van de snelle broer als hij zijn snelste tijden had gereden en de snelle broer zijn langzaamste tijden? (gebruik de gesoorteerde tabellen van de tijden om dit te tellen)\n"
   ]
  },
  {
   "cell_type": "code",
   "execution_count": 57,
   "metadata": {},
   "outputs": [
    {
     "name": "stdout",
     "output_type": "stream",
     "text": [
      "22\n",
      "84.615\n",
      "7\n"
     ]
    }
   ],
   "source": [
    "ronald_sneller_list = schaatstijdenVerschil['Ronald'] < schaatstijdenVerschil['Michel']\n",
    "ronald_sneller = ronald_sneller_list.sum()\n",
    "ronald_sneller_percentage = (ronald_sneller / len(schaatstijdenVerschil)) * 100\n",
    "\n",
    "ronald_sorted = sorted(schaatstijdenVerschil['Ronald'], reverse=True)\n",
    "ronald_sorted = ronald_sorted[:20]\n",
    "\n",
    "michel_sorted = sorted(schaatstijdenVerschil['Michel'])\n",
    "michel_sorted = michel_sorted[:20]\n",
    "\n",
    "top20_MichelRonald = np.array(michel_sorted) < np.array(ronald_sorted)\n",
    "top20_MichelRonald = top20_MichelRonald.sum()\n",
    "\n",
    "print(ronald_sneller)\n",
    "print(round(ronald_sneller_percentage, 3))\n",
    "print(top20_MichelRonald)"
   ]
  },
  {
   "cell_type": "markdown",
   "metadata": {},
   "source": [
    "#### Antwoord\n",
    "Ronald was 22 keren van alle keren sneller dan Michel\n",
    "\n",
    "Dit was 84.615% van de keren\n",
    "\n",
    "Als Ronald de 20 slechtste tijden had gereden en Michel de snelste 20, dan zou Michel 7 keer winnen"
   ]
  }
 ],
 "metadata": {
  "kernelspec": {
   "display_name": "Python [conda env:base] *",
   "language": "python",
   "name": "conda-base-py"
  },
  "language_info": {
   "codemirror_mode": {
    "name": "ipython",
    "version": 3
   },
   "file_extension": ".py",
   "mimetype": "text/x-python",
   "name": "python",
   "nbconvert_exporter": "python",
   "pygments_lexer": "ipython3",
   "version": "3.12.7"
  }
 },
 "nbformat": 4,
 "nbformat_minor": 4
}
