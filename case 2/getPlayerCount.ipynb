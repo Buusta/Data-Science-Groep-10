{
 "cells": [
  {
   "cell_type": "code",
   "execution_count": null,
   "metadata": {},
   "outputs": [
    {
     "name": "stdout",
     "output_type": "stream",
     "text": [
      "CS2 huidige spelers: 25714\n"
     ]
    }
   ],
   "source": [
    "import requests\n",
    "\n",
    "# Vraag het aantal actuele spelers op voor een specifiek spel\n",
    "def get_player_count(appid: int):\n",
    "    url = \"https://api.steampowered.com/ISteamUserStats/GetNumberOfCurrentPlayers/v1/\"\n",
    "    params = {\"appid\": appid}\n",
    "    \n",
    "    response = requests.get(url, params=params)\n",
    "    if response.status_code == 200:\n",
    "        data = response.json()\n",
    "        return data.get(\"response\", {}).get(\"player_count\", 0)\n",
    "    else:\n",
    "        print(\"Error:\", response.status_code, response.text)\n",
    "        return None\n",
    "\n",
    "# Voorbeeld: CS2 (appid = 730)\n",
    "print(\"huidige spelers:\", get_player_count(appid=3527290))\n"
   ]
  }
 ],
 "metadata": {
  "kernelspec": {
   "display_name": "base",
   "language": "python",
   "name": "python3"
  },
  "language_info": {
   "codemirror_mode": {
    "name": "ipython",
    "version": 3
   },
   "file_extension": ".py",
   "mimetype": "text/x-python",
   "name": "python",
   "nbconvert_exporter": "python",
   "pygments_lexer": "ipython3",
   "version": "3.13.5"
  }
 },
 "nbformat": 4,
 "nbformat_minor": 4
}
